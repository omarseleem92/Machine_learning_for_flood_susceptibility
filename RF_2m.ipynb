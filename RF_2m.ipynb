{
  "cells": [
    {
      "cell_type": "markdown",
      "metadata": {
        "id": "view-in-github",
        "colab_type": "text"
      },
      "source": [
        "<a href=\"https://colab.research.google.com/github/omarseleem92/flood_susceptibility_mapping/blob/main/RF_2m.ipynb\" target=\"_parent\"><img src=\"https://colab.research.google.com/assets/colab-badge.svg\" alt=\"Open In Colab\"/></a>"
      ]
    },
    {
      "cell_type": "code",
      "source": [
        "### Install Geopandas \n",
        "!pip install --upgrade geopandas\n"
      ],
      "metadata": {
        "colab": {
          "base_uri": "https://localhost:8080/"
        },
        "id": "UwK5TyLINy9L",
        "outputId": "0094ec6d-560c-440f-b343-3ee08602dfc5"
      },
      "execution_count": null,
      "outputs": [
        {
          "output_type": "stream",
          "name": "stdout",
          "text": [
            "Looking in indexes: https://pypi.org/simple, https://us-python.pkg.dev/colab-wheels/public/simple/\n",
            "Requirement already satisfied: geopandas in /usr/local/lib/python3.7/dist-packages (0.10.2)\n",
            "Requirement already satisfied: shapely>=1.6 in /usr/local/lib/python3.7/dist-packages (from geopandas) (1.8.4)\n",
            "Requirement already satisfied: pandas>=0.25.0 in /usr/local/lib/python3.7/dist-packages (from geopandas) (1.3.5)\n",
            "Requirement already satisfied: fiona>=1.8 in /usr/local/lib/python3.7/dist-packages (from geopandas) (1.8.21)\n",
            "Requirement already satisfied: pyproj>=2.2.0 in /usr/local/lib/python3.7/dist-packages (from geopandas) (3.2.1)\n",
            "Requirement already satisfied: munch in /usr/local/lib/python3.7/dist-packages (from fiona>=1.8->geopandas) (2.5.0)\n",
            "Requirement already satisfied: certifi in /usr/local/lib/python3.7/dist-packages (from fiona>=1.8->geopandas) (2022.6.15)\n",
            "Requirement already satisfied: click>=4.0 in /usr/local/lib/python3.7/dist-packages (from fiona>=1.8->geopandas) (7.1.2)\n",
            "Requirement already satisfied: attrs>=17 in /usr/local/lib/python3.7/dist-packages (from fiona>=1.8->geopandas) (22.1.0)\n",
            "Requirement already satisfied: six>=1.7 in /usr/local/lib/python3.7/dist-packages (from fiona>=1.8->geopandas) (1.15.0)\n",
            "Requirement already satisfied: click-plugins>=1.0 in /usr/local/lib/python3.7/dist-packages (from fiona>=1.8->geopandas) (1.1.1)\n",
            "Requirement already satisfied: cligj>=0.5 in /usr/local/lib/python3.7/dist-packages (from fiona>=1.8->geopandas) (0.7.2)\n",
            "Requirement already satisfied: setuptools in /usr/local/lib/python3.7/dist-packages (from fiona>=1.8->geopandas) (57.4.0)\n",
            "Requirement already satisfied: numpy>=1.17.3 in /usr/local/lib/python3.7/dist-packages (from pandas>=0.25.0->geopandas) (1.21.6)\n",
            "Requirement already satisfied: python-dateutil>=2.7.3 in /usr/local/lib/python3.7/dist-packages (from pandas>=0.25.0->geopandas) (2.8.2)\n",
            "Requirement already satisfied: pytz>=2017.3 in /usr/local/lib/python3.7/dist-packages (from pandas>=0.25.0->geopandas) (2022.2.1)\n"
          ]
        }
      ]
    },
    {
      "cell_type": "code",
      "execution_count": null,
      "metadata": {
        "id": "UqiweDj0IJ9r"
      },
      "outputs": [],
      "source": [
        "## import packages\n",
        "import numpy as np\n",
        "import pandas as pd\n",
        "from matplotlib import pyplot as plt\n",
        "import seaborn as sns\n",
        "import geopandas as gpd"
      ]
    },
    {
      "cell_type": "code",
      "source": [
        "## Mount google drive to get the data\n",
        "from google.colab import drive\n",
        "drive.mount('/content/drive')"
      ],
      "metadata": {
        "colab": {
          "base_uri": "https://localhost:8080/"
        },
        "id": "PWmxBpLvN-ZX",
        "outputId": "481ec70a-afca-4a4f-89bb-54e93c6df57a"
      },
      "execution_count": null,
      "outputs": [
        {
          "output_type": "stream",
          "name": "stdout",
          "text": [
            "Drive already mounted at /content/drive; to attempt to forcibly remount, call drive.mount(\"/content/drive\", force_remount=True).\n"
          ]
        }
      ]
    },
    {
      "cell_type": "code",
      "execution_count": null,
      "metadata": {
        "colab": {
          "base_uri": "https://localhost:8080/",
          "height": 206
        },
        "id": "xWOK0_0nIJ9t",
        "outputId": "e1037dda-26d4-4887-b6ca-0dd808c76e66"
      },
      "outputs": [
        {
          "output_type": "execute_result",
          "data": {
            "text/plain": [
              "   Flooded    Aspect    CN     Curve       DEM  DTDrainage   DTRiver  \\\n",
              "0        0  0.957001  0.72  0.799850  0.412259    0.008363  0.054802   \n",
              "1        0  0.470967  0.72  0.800776  0.401485    0.006973  0.078309   \n",
              "2        0  0.942324  0.72  0.800335  0.412341    0.009118  0.104160   \n",
              "3        0  0.994332  0.72  0.799277  0.439112    0.017643  0.094123   \n",
              "4        0  0.076357  0.72  0.799542  0.418952    0.006865  0.090165   \n",
              "\n",
              "     DTRoad      Freq  Rainfall     Slope       TWI  \\\n",
              "0  0.020846  0.466105  0.164432  0.016718  0.164849   \n",
              "1  0.008858  0.627576  0.255468  0.091135  0.210387   \n",
              "2  0.025825  0.705864  0.299589  0.067785  0.164357   \n",
              "3  0.024873  0.729333  0.349291  0.025067  0.173485   \n",
              "4  0.007769  0.734826  0.290722  0.010006  0.263441   \n",
              "\n",
              "                                 geometry  \n",
              "0  POINT Z (382966.170 5814691.564 0.000)  \n",
              "1  POINT Z (383336.587 5814598.960 0.000)  \n",
              "2  POINT Z (383759.922 5814559.272 0.000)  \n",
              "3  POINT Z (384170.026 5814572.501 0.000)  \n",
              "4  POINT Z (384474.298 5814612.189 0.000)  "
            ],
            "text/html": [
              "\n",
              "  <div id=\"df-f6d6f75a-7690-4b67-b2a6-cc00a7ace12d\">\n",
              "    <div class=\"colab-df-container\">\n",
              "      <div>\n",
              "<style scoped>\n",
              "    .dataframe tbody tr th:only-of-type {\n",
              "        vertical-align: middle;\n",
              "    }\n",
              "\n",
              "    .dataframe tbody tr th {\n",
              "        vertical-align: top;\n",
              "    }\n",
              "\n",
              "    .dataframe thead th {\n",
              "        text-align: right;\n",
              "    }\n",
              "</style>\n",
              "<table border=\"1\" class=\"dataframe\">\n",
              "  <thead>\n",
              "    <tr style=\"text-align: right;\">\n",
              "      <th></th>\n",
              "      <th>Flooded</th>\n",
              "      <th>Aspect</th>\n",
              "      <th>CN</th>\n",
              "      <th>Curve</th>\n",
              "      <th>DEM</th>\n",
              "      <th>DTDrainage</th>\n",
              "      <th>DTRiver</th>\n",
              "      <th>DTRoad</th>\n",
              "      <th>Freq</th>\n",
              "      <th>Rainfall</th>\n",
              "      <th>Slope</th>\n",
              "      <th>TWI</th>\n",
              "      <th>geometry</th>\n",
              "    </tr>\n",
              "  </thead>\n",
              "  <tbody>\n",
              "    <tr>\n",
              "      <th>0</th>\n",
              "      <td>0</td>\n",
              "      <td>0.957001</td>\n",
              "      <td>0.72</td>\n",
              "      <td>0.799850</td>\n",
              "      <td>0.412259</td>\n",
              "      <td>0.008363</td>\n",
              "      <td>0.054802</td>\n",
              "      <td>0.020846</td>\n",
              "      <td>0.466105</td>\n",
              "      <td>0.164432</td>\n",
              "      <td>0.016718</td>\n",
              "      <td>0.164849</td>\n",
              "      <td>POINT Z (382966.170 5814691.564 0.000)</td>\n",
              "    </tr>\n",
              "    <tr>\n",
              "      <th>1</th>\n",
              "      <td>0</td>\n",
              "      <td>0.470967</td>\n",
              "      <td>0.72</td>\n",
              "      <td>0.800776</td>\n",
              "      <td>0.401485</td>\n",
              "      <td>0.006973</td>\n",
              "      <td>0.078309</td>\n",
              "      <td>0.008858</td>\n",
              "      <td>0.627576</td>\n",
              "      <td>0.255468</td>\n",
              "      <td>0.091135</td>\n",
              "      <td>0.210387</td>\n",
              "      <td>POINT Z (383336.587 5814598.960 0.000)</td>\n",
              "    </tr>\n",
              "    <tr>\n",
              "      <th>2</th>\n",
              "      <td>0</td>\n",
              "      <td>0.942324</td>\n",
              "      <td>0.72</td>\n",
              "      <td>0.800335</td>\n",
              "      <td>0.412341</td>\n",
              "      <td>0.009118</td>\n",
              "      <td>0.104160</td>\n",
              "      <td>0.025825</td>\n",
              "      <td>0.705864</td>\n",
              "      <td>0.299589</td>\n",
              "      <td>0.067785</td>\n",
              "      <td>0.164357</td>\n",
              "      <td>POINT Z (383759.922 5814559.272 0.000)</td>\n",
              "    </tr>\n",
              "    <tr>\n",
              "      <th>3</th>\n",
              "      <td>0</td>\n",
              "      <td>0.994332</td>\n",
              "      <td>0.72</td>\n",
              "      <td>0.799277</td>\n",
              "      <td>0.439112</td>\n",
              "      <td>0.017643</td>\n",
              "      <td>0.094123</td>\n",
              "      <td>0.024873</td>\n",
              "      <td>0.729333</td>\n",
              "      <td>0.349291</td>\n",
              "      <td>0.025067</td>\n",
              "      <td>0.173485</td>\n",
              "      <td>POINT Z (384170.026 5814572.501 0.000)</td>\n",
              "    </tr>\n",
              "    <tr>\n",
              "      <th>4</th>\n",
              "      <td>0</td>\n",
              "      <td>0.076357</td>\n",
              "      <td>0.72</td>\n",
              "      <td>0.799542</td>\n",
              "      <td>0.418952</td>\n",
              "      <td>0.006865</td>\n",
              "      <td>0.090165</td>\n",
              "      <td>0.007769</td>\n",
              "      <td>0.734826</td>\n",
              "      <td>0.290722</td>\n",
              "      <td>0.010006</td>\n",
              "      <td>0.263441</td>\n",
              "      <td>POINT Z (384474.298 5814612.189 0.000)</td>\n",
              "    </tr>\n",
              "  </tbody>\n",
              "</table>\n",
              "</div>\n",
              "      <button class=\"colab-df-convert\" onclick=\"convertToInteractive('df-f6d6f75a-7690-4b67-b2a6-cc00a7ace12d')\"\n",
              "              title=\"Convert this dataframe to an interactive table.\"\n",
              "              style=\"display:none;\">\n",
              "        \n",
              "  <svg xmlns=\"http://www.w3.org/2000/svg\" height=\"24px\"viewBox=\"0 0 24 24\"\n",
              "       width=\"24px\">\n",
              "    <path d=\"M0 0h24v24H0V0z\" fill=\"none\"/>\n",
              "    <path d=\"M18.56 5.44l.94 2.06.94-2.06 2.06-.94-2.06-.94-.94-2.06-.94 2.06-2.06.94zm-11 1L8.5 8.5l.94-2.06 2.06-.94-2.06-.94L8.5 2.5l-.94 2.06-2.06.94zm10 10l.94 2.06.94-2.06 2.06-.94-2.06-.94-.94-2.06-.94 2.06-2.06.94z\"/><path d=\"M17.41 7.96l-1.37-1.37c-.4-.4-.92-.59-1.43-.59-.52 0-1.04.2-1.43.59L10.3 9.45l-7.72 7.72c-.78.78-.78 2.05 0 2.83L4 21.41c.39.39.9.59 1.41.59.51 0 1.02-.2 1.41-.59l7.78-7.78 2.81-2.81c.8-.78.8-2.07 0-2.86zM5.41 20L4 18.59l7.72-7.72 1.47 1.35L5.41 20z\"/>\n",
              "  </svg>\n",
              "      </button>\n",
              "      \n",
              "  <style>\n",
              "    .colab-df-container {\n",
              "      display:flex;\n",
              "      flex-wrap:wrap;\n",
              "      gap: 12px;\n",
              "    }\n",
              "\n",
              "    .colab-df-convert {\n",
              "      background-color: #E8F0FE;\n",
              "      border: none;\n",
              "      border-radius: 50%;\n",
              "      cursor: pointer;\n",
              "      display: none;\n",
              "      fill: #1967D2;\n",
              "      height: 32px;\n",
              "      padding: 0 0 0 0;\n",
              "      width: 32px;\n",
              "    }\n",
              "\n",
              "    .colab-df-convert:hover {\n",
              "      background-color: #E2EBFA;\n",
              "      box-shadow: 0px 1px 2px rgba(60, 64, 67, 0.3), 0px 1px 3px 1px rgba(60, 64, 67, 0.15);\n",
              "      fill: #174EA6;\n",
              "    }\n",
              "\n",
              "    [theme=dark] .colab-df-convert {\n",
              "      background-color: #3B4455;\n",
              "      fill: #D2E3FC;\n",
              "    }\n",
              "\n",
              "    [theme=dark] .colab-df-convert:hover {\n",
              "      background-color: #434B5C;\n",
              "      box-shadow: 0px 1px 3px 1px rgba(0, 0, 0, 0.15);\n",
              "      filter: drop-shadow(0px 1px 2px rgba(0, 0, 0, 0.3));\n",
              "      fill: #FFFFFF;\n",
              "    }\n",
              "  </style>\n",
              "\n",
              "      <script>\n",
              "        const buttonEl =\n",
              "          document.querySelector('#df-f6d6f75a-7690-4b67-b2a6-cc00a7ace12d button.colab-df-convert');\n",
              "        buttonEl.style.display =\n",
              "          google.colab.kernel.accessAllowed ? 'block' : 'none';\n",
              "\n",
              "        async function convertToInteractive(key) {\n",
              "          const element = document.querySelector('#df-f6d6f75a-7690-4b67-b2a6-cc00a7ace12d');\n",
              "          const dataTable =\n",
              "            await google.colab.kernel.invokeFunction('convertToInteractive',\n",
              "                                                     [key], {});\n",
              "          if (!dataTable) return;\n",
              "\n",
              "          const docLinkHtml = 'Like what you see? Visit the ' +\n",
              "            '<a target=\"_blank\" href=https://colab.research.google.com/notebooks/data_table.ipynb>data table notebook</a>'\n",
              "            + ' to learn more about interactive tables.';\n",
              "          element.innerHTML = '';\n",
              "          dataTable['output_type'] = 'display_data';\n",
              "          await google.colab.output.renderOutput(dataTable, element);\n",
              "          const docLink = document.createElement('div');\n",
              "          docLink.innerHTML = docLinkHtml;\n",
              "          element.appendChild(docLink);\n",
              "        }\n",
              "      </script>\n",
              "    </div>\n",
              "  </div>\n",
              "  "
            ]
          },
          "metadata": {},
          "execution_count": 5
        }
      ],
      "source": [
        "# Read the shapefile\n",
        "# The shapefile includes 3934 locations, half the locations were obtained from the flood inventory while the other half was generated randomly.\n",
        "# Flooded = 0 indicates not flooded location while Flooded = 1 indicates flooded location\n",
        "## Every location has values for the 11 flood predictory features.\n",
        "df=gpd.read_file(\"/content/drive/MyDrive/RF_model_Flood_susceptibility/Merged_RF.shp\")\n",
        "df.head()"
      ]
    },
    {
      "cell_type": "code",
      "execution_count": null,
      "metadata": {
        "colab": {
          "base_uri": "https://localhost:8080/"
        },
        "id": "jUp_4ZH-IJ9v",
        "outputId": "a58f4415-221a-4534-fe01-54ee1e43f0e8"
      },
      "outputs": [
        {
          "output_type": "stream",
          "name": "stdout",
          "text": [
            "             count      mean       std       min       25%       50%  \\\n",
            "Flooded     3934.0  0.500000  0.500064  0.000000  0.000000  0.500000   \n",
            "Aspect      3934.0  0.490472  0.299935  0.000000  0.230686  0.494488   \n",
            "CN          3934.0  0.765074  0.054014  0.580000  0.720000  0.770000   \n",
            "Curve       3934.0  0.799673  0.001490  0.784468  0.799365  0.799630   \n",
            "DEM         3934.0  0.326524  0.053403  0.248286  0.283137  0.299461   \n",
            "DTDrainage  3934.0  0.016004  0.025404  0.000000  0.004649  0.007977   \n",
            "DTRiver     3934.0  0.069707  0.049146  0.000000  0.026939  0.061735   \n",
            "DTRoad      3934.0  0.013727  0.013888  0.000000  0.005493  0.011653   \n",
            "Freq        3934.0  0.523706  0.204706  0.079168  0.376067  0.540465   \n",
            "Rainfall    3934.0  0.408745  0.202367  0.036162  0.221126  0.427292   \n",
            "Slope       3934.0  0.025746  0.047224  0.000000  0.007828  0.014431   \n",
            "TWI         3934.0  0.223363  0.069369  0.041362  0.173229  0.207372   \n",
            "\n",
            "                 75%       max  \n",
            "Flooded     1.000000  1.000000  \n",
            "Aspect      0.750694  0.999999  \n",
            "CN          0.810000  1.000000  \n",
            "Curve       0.799894  0.842913  \n",
            "DEM         0.369572  0.557868  \n",
            "DTDrainage  0.015516  0.245576  \n",
            "DTRiver     0.107143  0.206167  \n",
            "DTRoad      0.016016  0.231573  \n",
            "Freq        0.708687  0.953356  \n",
            "Rainfall    0.568352  0.978566  \n",
            "Slope       0.026852  0.813648  \n",
            "TWI         0.263089  0.602377  \n"
          ]
        }
      ],
      "source": [
        "print(df.describe().T)  #Values are already normalized in GIS before fitting. "
      ]
    },
    {
      "cell_type": "code",
      "execution_count": null,
      "metadata": {
        "colab": {
          "base_uri": "https://localhost:8080/"
        },
        "id": "L-cliJ3TIJ9w",
        "outputId": "a499259b-dca4-412c-fd42-ce6d5f816a28"
      },
      "outputs": [
        {
          "output_type": "stream",
          "name": "stdout",
          "text": [
            "Flooded       0\n",
            "Aspect        0\n",
            "CN            0\n",
            "Curve         0\n",
            "DEM           0\n",
            "DTDrainage    0\n",
            "DTRiver       0\n",
            "DTRoad        0\n",
            "Freq          0\n",
            "Rainfall      0\n",
            "Slope         0\n",
            "TWI           0\n",
            "geometry      0\n",
            "dtype: int64\n"
          ]
        }
      ],
      "source": [
        "## Check if there is null values\n",
        "print(df.isnull().sum())\n",
        "#df = df.dropna()"
      ]
    },
    {
      "cell_type": "code",
      "execution_count": null,
      "metadata": {
        "colab": {
          "base_uri": "https://localhost:8080/"
        },
        "id": "VeN3SPseIJ9x",
        "outputId": "58ff286a-dbe6-4da1-9b06-9185a8982018"
      },
      "outputs": [
        {
          "output_type": "stream",
          "name": "stdout",
          "text": [
            "Label            int64\n",
            "Aspect         float64\n",
            "CN             float64\n",
            "Curve          float64\n",
            "DEM            float64\n",
            "DTDrainage     float64\n",
            "DTRiver        float64\n",
            "DTRoad         float64\n",
            "Freq           float64\n",
            "Rainfall       float64\n",
            "Slope          float64\n",
            "TWI            float64\n",
            "geometry      geometry\n",
            "dtype: object\n"
          ]
        }
      ],
      "source": [
        "df = df.rename(columns={'Flooded':'Label'})\n",
        "print(df.dtypes)"
      ]
    },
    {
      "cell_type": "code",
      "execution_count": null,
      "metadata": {
        "colab": {
          "base_uri": "https://localhost:8080/",
          "height": 296
        },
        "id": "vraviceAIJ9x",
        "outputId": "4f478364-c098-49f6-9651-9dc3bf885030"
      },
      "outputs": [
        {
          "output_type": "execute_result",
          "data": {
            "text/plain": [
              "<matplotlib.axes._subplots.AxesSubplot at 0x7fe150873f10>"
            ]
          },
          "metadata": {},
          "execution_count": 9
        },
        {
          "output_type": "display_data",
          "data": {
            "text/plain": [
              "<Figure size 432x288 with 1 Axes>"
            ],
            "image/png": "[encoded data removed]"
          },
          "metadata": {
            "needs_background": "light"
          }
        }
      ],
      "source": [
        "#Understand the data \n",
        "# The dataset includes the same number of flooded and not flooded locations\n",
        "sns.countplot(x=\"Label\", data=df) #0 - Notflooded   1 - Flooded"
      ]
    },
    {
      "cell_type": "code",
      "execution_count": null,
      "metadata": {
        "colab": {
          "base_uri": "https://localhost:8080/",
          "height": 662
        },
        "id": "lgX_IWDnIJ9y",
        "outputId": "187b2b63-a24b-4b06-a089-9b7c9d59c753"
      },
      "outputs": [
        {
          "output_type": "execute_result",
          "data": {
            "text/plain": [
              "<matplotlib.axes._subplots.AxesSubplot at 0x7fe150874510>"
            ]
          },
          "metadata": {},
          "execution_count": 10
        },
        {
          "output_type": "display_data",
          "data": {
            "text/plain": [
              "<Figure size 720x720 with 2 Axes>"
            ],
            "image/png": "[encoded data removed]"
          },
          "metadata": {
            "needs_background": "light"
          }
        }
      ],
      "source": [
        "# Correlation between the input features\n",
        "\n",
        "corrMatrix = df.corr()\n",
        "fig, ax = plt.subplots(figsize=(10,10))         # Sample figsize in inches\n",
        "#sns.heatmap(df.iloc[:, 1:6:], annot=True, linewidths=.5, ax=ax)\n",
        "sns.heatmap(corrMatrix, annot=False, linewidths=.5, ax=ax)"
      ]
    },
    {
      "cell_type": "code",
      "execution_count": null,
      "metadata": {
        "id": "AzsluB32IJ9z"
      },
      "outputs": [],
      "source": [
        "#Define the dependent variable that needs to be predicted (labels)\n",
        "Y = df[\"Label\"].values\n"
      ]
    },
    {
      "cell_type": "code",
      "execution_count": null,
      "metadata": {
        "id": "qMYgxAMBIJ90"
      },
      "outputs": [],
      "source": [
        "#Define the independent variables. \n",
        "X = df.drop(labels = [\"Label\",'geometry'], axis=1) \n",
        "features_list = list(X.columns)  #List features so we can rank them later.\n",
        "#from sklearn.preprocessing import normalize\n",
        "# Only needed if the data was not normalized\n",
        "#X = normalize(X, axis=1)"
      ]
    },
    {
      "cell_type": "code",
      "execution_count": null,
      "metadata": {
        "colab": {
          "base_uri": "https://localhost:8080/",
          "height": 424
        },
        "id": "PQzEFF6DIJ91",
        "outputId": "c1e3c714-4d0c-4220-b2b8-e6c98036662d"
      },
      "outputs": [
        {
          "output_type": "execute_result",
          "data": {
            "text/plain": [
              "        Aspect    CN     Curve       DEM  DTDrainage   DTRiver    DTRoad  \\\n",
              "0     0.957001  0.72  0.799850  0.412259    0.008363  0.054802  0.020846   \n",
              "1     0.470967  0.72  0.800776  0.401485    0.006973  0.078309  0.008858   \n",
              "2     0.942324  0.72  0.800335  0.412341    0.009118  0.104160  0.025825   \n",
              "3     0.994332  0.72  0.799277  0.439112    0.017643  0.094123  0.024873   \n",
              "4     0.076357  0.72  0.799542  0.418952    0.006865  0.090165  0.007769   \n",
              "...        ...   ...       ...       ...         ...       ...       ...   \n",
              "3929  0.388047  0.72  0.799542  0.396425    0.012825  0.127760  0.009355   \n",
              "3930  0.142494  0.81  0.799806  0.371613    0.003333  0.164813  0.010987   \n",
              "3931  0.666879  0.81  0.799850  0.360921    0.003465  0.163731  0.011653   \n",
              "3932  0.982427  0.81  0.799057  0.369327    0.002950  0.171007  0.011123   \n",
              "3933  0.501355  0.72  0.799277  0.394303    0.022589  0.151540  0.014842   \n",
              "\n",
              "          Freq  Rainfall     Slope       TWI  \n",
              "0     0.466105  0.164432  0.016718  0.164849  \n",
              "1     0.627576  0.255468  0.091135  0.210387  \n",
              "2     0.705864  0.299589  0.067785  0.164357  \n",
              "3     0.729333  0.349291  0.025067  0.173485  \n",
              "4     0.734826  0.290722  0.010006  0.263441  \n",
              "...        ...       ...       ...       ...  \n",
              "3929  0.114188  0.092143  0.008882  0.232116  \n",
              "3930  0.318662  0.178534  0.013349  0.171602  \n",
              "3931  0.302372  0.198849  0.012433  0.173735  \n",
              "3932  0.299590  0.176342  0.004053  0.294096  \n",
              "3933  0.231982  0.175280  0.000895  0.273471  \n",
              "\n",
              "[3934 rows x 11 columns]"
            ],
            "text/html": [
              "\n",
              "  <div id=\"df-b0d6a030-2e90-4a9e-b864-37a2ca4b79bd\">\n",
              "    <div class=\"colab-df-container\">\n",
              "      <div>\n",
              "<style scoped>\n",
              "    .dataframe tbody tr th:only-of-type {\n",
              "        vertical-align: middle;\n",
              "    }\n",
              "\n",
              "    .dataframe tbody tr th {\n",
              "        vertical-align: top;\n",
              "    }\n",
              "\n",
              "    .dataframe thead th {\n",
              "        text-align: right;\n",
              "    }\n",
              "</style>\n",
              "<table border=\"1\" class=\"dataframe\">\n",
              "  <thead>\n",
              "    <tr style=\"text-align: right;\">\n",
              "      <th></th>\n",
              "      <th>Aspect</th>\n",
              "      <th>CN</th>\n",
              "      <th>Curve</th>\n",
              "      <th>DEM</th>\n",
              "      <th>DTDrainage</th>\n",
              "      <th>DTRiver</th>\n",
              "      <th>DTRoad</th>\n",
              "      <th>Freq</th>\n",
              "      <th>Rainfall</th>\n",
              "      <th>Slope</th>\n",
              "      <th>TWI</th>\n",
              "    </tr>\n",
              "  </thead>\n",
              "  <tbody>\n",
              "    <tr>\n",
              "      <th>0</th>\n",
              "      <td>0.957001</td>\n",
              "      <td>0.72</td>\n",
              "      <td>0.799850</td>\n",
              "      <td>0.412259</td>\n",
              "      <td>0.008363</td>\n",
              "      <td>0.054802</td>\n",
              "      <td>0.020846</td>\n",
              "      <td>0.466105</td>\n",
              "      <td>0.164432</td>\n",
              "      <td>0.016718</td>\n",
              "      <td>0.164849</td>\n",
              "    </tr>\n",
              "    <tr>\n",
              "      <th>1</th>\n",
              "      <td>0.470967</td>\n",
              "      <td>0.72</td>\n",
              "      <td>0.800776</td>\n",
              "      <td>0.401485</td>\n",
              "      <td>0.006973</td>\n",
              "      <td>0.078309</td>\n",
              "      <td>0.008858</td>\n",
              "      <td>0.627576</td>\n",
              "      <td>0.255468</td>\n",
              "      <td>0.091135</td>\n",
              "      <td>0.210387</td>\n",
              "    </tr>\n",
              "    <tr>\n",
              "      <th>2</th>\n",
              "      <td>0.942324</td>\n",
              "      <td>0.72</td>\n",
              "      <td>0.800335</td>\n",
              "      <td>0.412341</td>\n",
              "      <td>0.009118</td>\n",
              "      <td>0.104160</td>\n",
              "      <td>0.025825</td>\n",
              "      <td>0.705864</td>\n",
              "      <td>0.299589</td>\n",
              "      <td>0.067785</td>\n",
              "      <td>0.164357</td>\n",
              "    </tr>\n",
              "    <tr>\n",
              "      <th>3</th>\n",
              "      <td>0.994332</td>\n",
              "      <td>0.72</td>\n",
              "      <td>0.799277</td>\n",
              "      <td>0.439112</td>\n",
              "      <td>0.017643</td>\n",
              "      <td>0.094123</td>\n",
              "      <td>0.024873</td>\n",
              "      <td>0.729333</td>\n",
              "      <td>0.349291</td>\n",
              "      <td>0.025067</td>\n",
              "      <td>0.173485</td>\n",
              "    </tr>\n",
              "    <tr>\n",
              "      <th>4</th>\n",
              "      <td>0.076357</td>\n",
              "      <td>0.72</td>\n",
              "      <td>0.799542</td>\n",
              "      <td>0.418952</td>\n",
              "      <td>0.006865</td>\n",
              "      <td>0.090165</td>\n",
              "      <td>0.007769</td>\n",
              "      <td>0.734826</td>\n",
              "      <td>0.290722</td>\n",
              "      <td>0.010006</td>\n",
              "      <td>0.263441</td>\n",
              "    </tr>\n",
              "    <tr>\n",
              "      <th>...</th>\n",
              "      <td>...</td>\n",
              "      <td>...</td>\n",
              "      <td>...</td>\n",
              "      <td>...</td>\n",
              "      <td>...</td>\n",
              "      <td>...</td>\n",
              "      <td>...</td>\n",
              "      <td>...</td>\n",
              "      <td>...</td>\n",
              "      <td>...</td>\n",
              "      <td>...</td>\n",
              "    </tr>\n",
              "    <tr>\n",
              "      <th>3929</th>\n",
              "      <td>0.388047</td>\n",
              "      <td>0.72</td>\n",
              "      <td>0.799542</td>\n",
              "      <td>0.396425</td>\n",
              "      <td>0.012825</td>\n",
              "      <td>0.127760</td>\n",
              "      <td>0.009355</td>\n",
              "      <td>0.114188</td>\n",
              "      <td>0.092143</td>\n",
              "      <td>0.008882</td>\n",
              "      <td>0.232116</td>\n",
              "    </tr>\n",
              "    <tr>\n",
              "      <th>3930</th>\n",
              "      <td>0.142494</td>\n",
              "      <td>0.81</td>\n",
              "      <td>0.799806</td>\n",
              "      <td>0.371613</td>\n",
              "      <td>0.003333</td>\n",
              "      <td>0.164813</td>\n",
              "      <td>0.010987</td>\n",
              "      <td>0.318662</td>\n",
              "      <td>0.178534</td>\n",
              "      <td>0.013349</td>\n",
              "      <td>0.171602</td>\n",
              "    </tr>\n",
              "    <tr>\n",
              "      <th>3931</th>\n",
              "      <td>0.666879</td>\n",
              "      <td>0.81</td>\n",
              "      <td>0.799850</td>\n",
              "      <td>0.360921</td>\n",
              "      <td>0.003465</td>\n",
              "      <td>0.163731</td>\n",
              "      <td>0.011653</td>\n",
              "      <td>0.302372</td>\n",
              "      <td>0.198849</td>\n",
              "      <td>0.012433</td>\n",
              "      <td>0.173735</td>\n",
              "    </tr>\n",
              "    <tr>\n",
              "      <th>3932</th>\n",
              "      <td>0.982427</td>\n",
              "      <td>0.81</td>\n",
              "      <td>0.799057</td>\n",
              "      <td>0.369327</td>\n",
              "      <td>0.002950</td>\n",
              "      <td>0.171007</td>\n",
              "      <td>0.011123</td>\n",
              "      <td>0.299590</td>\n",
              "      <td>0.176342</td>\n",
              "      <td>0.004053</td>\n",
              "      <td>0.294096</td>\n",
              "    </tr>\n",
              "    <tr>\n",
              "      <th>3933</th>\n",
              "      <td>0.501355</td>\n",
              "      <td>0.72</td>\n",
              "      <td>0.799277</td>\n",
              "      <td>0.394303</td>\n",
              "      <td>0.022589</td>\n",
              "      <td>0.151540</td>\n",
              "      <td>0.014842</td>\n",
              "      <td>0.231982</td>\n",
              "      <td>0.175280</td>\n",
              "      <td>0.000895</td>\n",
              "      <td>0.273471</td>\n",
              "    </tr>\n",
              "  </tbody>\n",
              "</table>\n",
              "<p>3934 rows × 11 columns</p>\n",
              "</div>\n",
              "      <button class=\"colab-df-convert\" onclick=\"convertToInteractive('df-b0d6a030-2e90-4a9e-b864-37a2ca4b79bd')\"\n",
              "              title=\"Convert this dataframe to an interactive table.\"\n",
              "              style=\"display:none;\">\n",
              "        \n",
              "  <svg xmlns=\"http://www.w3.org/2000/svg\" height=\"24px\"viewBox=\"0 0 24 24\"\n",
              "       width=\"24px\">\n",
              "    <path d=\"M0 0h24v24H0V0z\" fill=\"none\"/>\n",
              "    <path d=\"M18.56 5.44l.94 2.06.94-2.06 2.06-.94-2.06-.94-.94-2.06-.94 2.06-2.06.94zm-11 1L8.5 8.5l.94-2.06 2.06-.94-2.06-.94L8.5 2.5l-.94 2.06-2.06.94zm10 10l.94 2.06.94-2.06 2.06-.94-2.06-.94-.94-2.06-.94 2.06-2.06.94z\"/><path d=\"M17.41 7.96l-1.37-1.37c-.4-.4-.92-.59-1.43-.59-.52 0-1.04.2-1.43.59L10.3 9.45l-7.72 7.72c-.78.78-.78 2.05 0 2.83L4 21.41c.39.39.9.59 1.41.59.51 0 1.02-.2 1.41-.59l7.78-7.78 2.81-2.81c.8-.78.8-2.07 0-2.86zM5.41 20L4 18.59l7.72-7.72 1.47 1.35L5.41 20z\"/>\n",
              "  </svg>\n",
              "      </button>\n",
              "      \n",
              "  <style>\n",
              "    .colab-df-container {\n",
              "      display:flex;\n",
              "      flex-wrap:wrap;\n",
              "      gap: 12px;\n",
              "    }\n",
              "\n",
              "    .colab-df-convert {\n",
              "      background-color: #E8F0FE;\n",
              "      border: none;\n",
              "      border-radius: 50%;\n",
              "      cursor: pointer;\n",
              "      display: none;\n",
              "      fill: #1967D2;\n",
              "      height: 32px;\n",
              "      padding: 0 0 0 0;\n",
              "      width: 32px;\n",
              "    }\n",
              "\n",
              "    .colab-df-convert:hover {\n",
              "      background-color: #E2EBFA;\n",
              "      box-shadow: 0px 1px 2px rgba(60, 64, 67, 0.3), 0px 1px 3px 1px rgba(60, 64, 67, 0.15);\n",
              "      fill: #174EA6;\n",
              "    }\n",
              "\n",
              "    [theme=dark] .colab-df-convert {\n",
              "      background-color: #3B4455;\n",
              "      fill: #D2E3FC;\n",
              "    }\n",
              "\n",
              "    [theme=dark] .colab-df-convert:hover {\n",
              "      background-color: #434B5C;\n",
              "      box-shadow: 0px 1px 3px 1px rgba(0, 0, 0, 0.15);\n",
              "      filter: drop-shadow(0px 1px 2px rgba(0, 0, 0, 0.3));\n",
              "      fill: #FFFFFF;\n",
              "    }\n",
              "  </style>\n",
              "\n",
              "      <script>\n",
              "        const buttonEl =\n",
              "          document.querySelector('#df-b0d6a030-2e90-4a9e-b864-37a2ca4b79bd button.colab-df-convert');\n",
              "        buttonEl.style.display =\n",
              "          google.colab.kernel.accessAllowed ? 'block' : 'none';\n",
              "\n",
              "        async function convertToInteractive(key) {\n",
              "          const element = document.querySelector('#df-b0d6a030-2e90-4a9e-b864-37a2ca4b79bd');\n",
              "          const dataTable =\n",
              "            await google.colab.kernel.invokeFunction('convertToInteractive',\n",
              "                                                     [key], {});\n",
              "          if (!dataTable) return;\n",
              "\n",
              "          const docLinkHtml = 'Like what you see? Visit the ' +\n",
              "            '<a target=\"_blank\" href=https://colab.research.google.com/notebooks/data_table.ipynb>data table notebook</a>'\n",
              "            + ' to learn more about interactive tables.';\n",
              "          element.innerHTML = '';\n",
              "          dataTable['output_type'] = 'display_data';\n",
              "          await google.colab.output.renderOutput(dataTable, element);\n",
              "          const docLink = document.createElement('div');\n",
              "          docLink.innerHTML = docLinkHtml;\n",
              "          element.appendChild(docLink);\n",
              "        }\n",
              "      </script>\n",
              "    </div>\n",
              "  </div>\n",
              "  "
            ]
          },
          "metadata": {},
          "execution_count": 13
        }
      ],
      "source": [
        "# the independent variables\n",
        "X"
      ]
    },
    {
      "cell_type": "code",
      "source": [
        "# the dependent variable\n",
        "Y"
      ],
      "metadata": {
        "colab": {
          "base_uri": "https://localhost:8080/"
        },
        "id": "VbbTSOQZVLh4",
        "outputId": "ffbb8ef7-c3b1-4ec4-e364-720ec4b3070c"
      },
      "execution_count": null,
      "outputs": [
        {
          "output_type": "execute_result",
          "data": {
            "text/plain": [
              "array([0, 0, 0, ..., 1, 1, 1])"
            ]
          },
          "metadata": {},
          "execution_count": 14
        }
      ]
    },
    {
      "cell_type": "code",
      "source": [
        "#Split data into train, validation and test to verify accuracy after fitting the model. \n",
        "# Firstly split the data into train_validation and test datasets then split the train_validation dataset into train and validation datasets.\n",
        "# The training dataset is used to train the model, the validation dataset is used for hyperparamter tuning and the testing dataset is used to test the model.\n",
        "# It is recommended to test the model with a data that the model hasn't seen in the training process\n",
        "from sklearn.model_selection import train_test_split\n",
        "X_train_val, X_test, y_train_val, y_test = train_test_split(X, Y, test_size=0.2,shuffle=True, random_state=42)\n"
      ],
      "metadata": {
        "id": "JvSaaEUVMw3m"
      },
      "execution_count": null,
      "outputs": []
    },
    {
      "cell_type": "code",
      "source": [
        "X_train, X_val, y_train, y_val = train_test_split(X_train_val, y_train_val, test_size=0.25,shuffle=True, random_state=42)"
      ],
      "metadata": {
        "id": "msedWfEGOpKP"
      },
      "execution_count": null,
      "outputs": []
    },
    {
      "cell_type": "code",
      "execution_count": null,
      "metadata": {
        "id": "dfsttUO5IJ92"
      },
      "outputs": [],
      "source": [
        "#RANDOM FOREST\n",
        "from sklearn.ensemble import RandomForestClassifier\n",
        "model = RandomForestClassifier(random_state = 42)"
      ]
    },
    {
      "cell_type": "code",
      "execution_count": null,
      "metadata": {
        "colab": {
          "base_uri": "https://localhost:8080/"
        },
        "id": "7WK0bUaYIJ93",
        "outputId": "b190724d-bc28-450d-ab2b-75b0a80a0b27"
      },
      "outputs": [
        {
          "output_type": "execute_result",
          "data": {
            "text/plain": [
              "RandomForestClassifier(random_state=42)"
            ]
          },
          "metadata": {},
          "execution_count": 18
        }
      ],
      "source": [
        "# Train the model on training data\n",
        "model.fit(X_train, y_train)"
      ]
    },
    {
      "cell_type": "code",
      "execution_count": null,
      "metadata": {
        "id": "rpC_2uSHIJ93"
      },
      "outputs": [],
      "source": [
        "# Model prediction\n",
        "prediction = model.predict(X_test)"
      ]
    },
    {
      "cell_type": "code",
      "execution_count": null,
      "metadata": {
        "colab": {
          "base_uri": "https://localhost:8080/"
        },
        "id": "Frz3lKefIJ94",
        "outputId": "a6f0f5fc-a933-4b39-e173-99f716697cb2"
      },
      "outputs": [
        {
          "output_type": "execute_result",
          "data": {
            "text/plain": [
              "array([1, 0, 1, 1, 0, 0, 0, 1, 1, 1, 0, 1, 0, 1, 1, 0, 1, 0, 0, 0, 1, 1,\n",
              "       0, 0, 0, 1, 1, 1, 0, 1, 1, 1, 1, 0, 0, 0, 0, 1, 1, 0, 1, 0, 1, 0,\n",
              "       0, 0, 1, 0, 0, 0, 1, 0, 0, 1, 0, 0, 0, 0, 0, 1, 1, 1, 0, 0, 1, 0,\n",
              "       0, 1, 0, 1, 1, 1, 1, 1, 1, 0, 0, 1, 0, 1, 0, 0, 1, 0, 1, 0, 1, 1,\n",
              "       0, 1, 1, 1, 1, 1, 1, 1, 0, 1, 0, 0, 0, 0, 0, 1, 1, 1, 0, 1, 0, 1,\n",
              "       1, 0, 1, 0, 0, 1, 1, 0, 1, 1, 1, 1, 1, 0, 1, 0, 1, 1, 0, 1, 0, 1,\n",
              "       0, 0, 0, 1, 1, 1, 1, 0, 1, 1, 1, 1, 1, 0, 0, 0, 0, 1, 0, 1, 0, 1,\n",
              "       0, 1, 0, 1, 0, 1, 0, 0, 1, 1, 1, 0, 0, 1, 0, 0, 0, 0, 1, 1, 0, 1,\n",
              "       0, 1, 0, 1, 0, 1, 0, 0, 0, 1, 0, 1, 0, 1, 0, 1, 1, 0, 1, 0, 0, 1,\n",
              "       1, 0, 1, 0, 0, 0, 0, 0, 1, 1, 0, 0, 1, 0, 0, 1, 1, 1, 1, 0, 1, 0,\n",
              "       0, 1, 1, 0, 1, 1, 1, 0, 0, 0, 1, 0, 0, 0, 1, 0, 0, 0, 1, 1, 1, 0,\n",
              "       0, 1, 1, 1, 0, 1, 0, 1, 0, 0, 0, 0, 1, 0, 0, 0, 0, 0, 0, 0, 1, 0,\n",
              "       1, 0, 1, 1, 0, 0, 1, 1, 1, 0, 0, 0, 0, 1, 0, 0, 0, 1, 1, 0, 0, 0,\n",
              "       0, 1, 0, 0, 0, 0, 1, 1, 1, 1, 0, 1, 1, 1, 0, 0, 1, 0, 0, 0, 0, 0,\n",
              "       0, 1, 1, 0, 1, 0, 0, 0, 0, 0, 0, 1, 1, 1, 1, 1, 1, 1, 0, 0, 1, 0,\n",
              "       1, 1, 0, 0, 1, 0, 0, 1, 0, 1, 0, 1, 1, 1, 1, 0, 0, 1, 0, 0, 0, 1,\n",
              "       1, 1, 1, 0, 1, 1, 1, 1, 0, 1, 0, 0, 0, 1, 0, 0, 1, 1, 0, 1, 1, 1,\n",
              "       0, 0, 1, 0, 1, 0, 0, 0, 1, 1, 0, 1, 1, 0, 0, 0, 0, 0, 0, 1, 0, 1,\n",
              "       1, 0, 1, 1, 1, 1, 0, 0, 1, 0, 0, 1, 1, 0, 0, 1, 0, 0, 0, 1, 0, 1,\n",
              "       0, 1, 0, 0, 0, 0, 0, 1, 0, 1, 0, 0, 1, 0, 0, 1, 0, 1, 1, 0, 0, 0,\n",
              "       0, 1, 1, 0, 1, 0, 0, 0, 0, 1, 1, 1, 1, 0, 0, 1, 1, 0, 0, 1, 1, 0,\n",
              "       1, 0, 1, 0, 1, 1, 1, 1, 0, 1, 1, 0, 0, 1, 0, 0, 0, 0, 1, 1, 0, 1,\n",
              "       0, 0, 0, 0, 0, 1, 0, 0, 1, 0, 1, 0, 0, 0, 0, 0, 1, 0, 0, 0, 1, 1,\n",
              "       1, 0, 0, 0, 0, 1, 1, 1, 1, 0, 1, 0, 0, 1, 0, 0, 1, 0, 0, 0, 0, 1,\n",
              "       1, 0, 1, 1, 0, 1, 1, 0, 0, 0, 0, 1, 0, 1, 0, 1, 1, 0, 0, 0, 1, 0,\n",
              "       0, 1, 0, 1, 0, 1, 0, 0, 1, 1, 0, 0, 0, 0, 0, 0, 1, 1, 0, 0, 0, 1,\n",
              "       1, 1, 0, 0, 0, 1, 0, 1, 0, 1, 1, 1, 0, 1, 1, 1, 0, 0, 0, 0, 1, 0,\n",
              "       1, 0, 0, 0, 1, 1, 1, 0, 1, 1, 0, 1, 0, 0, 1, 0, 0, 1, 0, 1, 0, 0,\n",
              "       0, 1, 0, 0, 1, 1, 1, 1, 0, 0, 0, 1, 0, 0, 0, 1, 1, 1, 0, 1, 1, 1,\n",
              "       1, 1, 1, 0, 0, 0, 1, 0, 1, 1, 1, 0, 0, 1, 0, 0, 1, 1, 1, 0, 0, 0,\n",
              "       0, 1, 1, 1, 0, 0, 0, 0, 1, 1, 0, 0, 1, 1, 1, 0, 0, 0, 0, 0, 0, 0,\n",
              "       0, 1, 0, 0, 0, 1, 1, 1, 0, 1, 1, 0, 0, 1, 0, 0, 0, 0, 0, 0, 1, 1,\n",
              "       0, 1, 0, 1, 0, 1, 1, 0, 0, 1, 1, 1, 1, 1, 0, 0, 1, 0, 0, 1, 0, 1,\n",
              "       1, 1, 0, 1, 0, 1, 1, 1, 0, 0, 1, 1, 1, 0, 1, 0, 0, 0, 0, 0, 0, 0,\n",
              "       0, 0, 0, 1, 1, 0, 0, 1, 0, 0, 1, 1, 1, 0, 1, 0, 1, 0, 1, 0, 0, 0,\n",
              "       0, 0, 1, 0, 1, 1, 1, 1, 0, 1, 1, 1, 1, 1, 1, 0, 1])"
            ]
          },
          "metadata": {},
          "execution_count": 20
        }
      ],
      "source": [
        "# Prediction are 1 (Flooded) and 0 (Not flooded)\n",
        "prediction "
      ]
    },
    {
      "cell_type": "code",
      "execution_count": null,
      "metadata": {
        "colab": {
          "base_uri": "https://localhost:8080/",
          "height": 334
        },
        "id": "Wm6R1tRWIJ94",
        "outputId": "5382108c-cea1-46b8-ac52-1906762b25e6"
      },
      "outputs": [
        {
          "output_type": "stream",
          "name": "stderr",
          "text": [
            "/usr/local/lib/python3.7/dist-packages/sklearn/utils/deprecation.py:87: FutureWarning: Function plot_roc_curve is deprecated; Function :func:`plot_roc_curve` is deprecated in 1.0 and will be removed in 1.2. Use one of the class methods: :meth:`sklearn.metric.RocCurveDisplay.from_predictions` or :meth:`sklearn.metric.RocCurveDisplay.from_estimator`.\n",
            "  warnings.warn(msg, category=FutureWarning)\n"
          ]
        },
        {
          "output_type": "display_data",
          "data": {
            "text/plain": [
              "<Figure size 432x288 with 1 Axes>"
            ],
            "image/png": "[encoded data removed]"
          },
          "metadata": {
            "needs_background": "light"
          }
        }
      ],
      "source": [
        "# Draw the Receiver Operating Characteristics and estimate the Area under the curve (AUC)\n",
        "# for more information about the AUC, please see https://towardsdatascience.com/understanding-auc-roc-curve-68b2303cc9c5\n",
        "\n",
        "from sklearn.metrics import plot_roc_curve\n",
        "\n",
        "ax = plt.gca()\n",
        "model_disp = plot_roc_curve(model, X_test, y_test, ax=ax, alpha=0.8)\n",
        "plt.show()\n"
      ]
    },
    {
      "cell_type": "code",
      "execution_count": null,
      "metadata": {
        "id": "-uIbXNfkIJ96"
      },
      "outputs": [],
      "source": [
        "# In order to map the flood susceptibility, we need to predict the flood susceptibility (probability between 0 and 1)\n",
        "prediction_prob=model.predict_proba(X_test)"
      ]
    },
    {
      "cell_type": "code",
      "execution_count": null,
      "metadata": {
        "colab": {
          "base_uri": "https://localhost:8080/"
        },
        "id": "IioOkLppIJ96",
        "outputId": "3fb9bb8c-29da-4ecb-8210-adb0e73e023f"
      },
      "outputs": [
        {
          "output_type": "execute_result",
          "data": {
            "text/plain": [
              "array([[0.05, 0.95],\n",
              "       [0.88, 0.12],\n",
              "       [0.33, 0.67],\n",
              "       ...,\n",
              "       [0.  , 1.  ],\n",
              "       [0.64, 0.36],\n",
              "       [0.  , 1.  ]])"
            ]
          },
          "metadata": {},
          "execution_count": 23
        }
      ],
      "source": [
        "# The probability of being not flooded and flooded for every location ( Their summation equals 1)\n",
        "prediction_prob"
      ]
    },
    {
      "cell_type": "code",
      "execution_count": null,
      "metadata": {
        "colab": {
          "base_uri": "https://localhost:8080/"
        },
        "id": "ZPQCt4daIJ96",
        "outputId": "9a0e290b-cc21-4748-f019-fa1b7af3f7b7"
      },
      "outputs": [
        {
          "output_type": "execute_result",
          "data": {
            "text/plain": [
              "(787,)"
            ]
          },
          "metadata": {},
          "execution_count": 24
        }
      ],
      "source": [
        "ls=prediction_prob[:,1]\n",
        "ls.shape"
      ]
    },
    {
      "cell_type": "code",
      "source": [
        "# As flood susceptibility is classification problem (flooded or not flooded), we can calculate some additional performance indices\n",
        "from sklearn.metrics import classification_report\n",
        "target_names=[\"Not Flooded\",\"Flooded\"]\n",
        "print(classification_report(y_test, prediction, target_names=target_names))"
      ],
      "metadata": {
        "colab": {
          "base_uri": "https://localhost:8080/"
        },
        "id": "ZsjM_rS7PDyO",
        "outputId": "ad5b3cb3-7fa1-4b08-d5ea-ce1298c8d307"
      },
      "execution_count": null,
      "outputs": [
        {
          "output_type": "stream",
          "name": "stdout",
          "text": [
            "              precision    recall  f1-score   support\n",
            "\n",
            " Not Flooded       0.84      0.89      0.87       395\n",
            "     Flooded       0.89      0.83      0.86       392\n",
            "\n",
            "    accuracy                           0.86       787\n",
            "   macro avg       0.87      0.86      0.86       787\n",
            "weighted avg       0.87      0.86      0.86       787\n",
            "\n"
          ]
        }
      ]
    },
    {
      "cell_type": "code",
      "source": [
        "from sklearn.metrics import cohen_kappa_score\n",
        "print(cohen_kappa_score(y_test, prediction))\n"
      ],
      "metadata": {
        "colab": {
          "base_uri": "https://localhost:8080/"
        },
        "id": "fnz6y41vPgKD",
        "outputId": "f093cfb6-8ce9-4be5-92f0-3d40f39fd075"
      },
      "execution_count": null,
      "outputs": [
        {
          "output_type": "stream",
          "name": "stdout",
          "text": [
            "0.7280167694300268\n"
          ]
        }
      ]
    },
    {
      "cell_type": "code",
      "execution_count": null,
      "metadata": {
        "colab": {
          "base_uri": "https://localhost:8080/"
        },
        "id": "La5vuKXJIJ98",
        "outputId": "f2cdcf67-b297-4d02-e719-48a9d1e9c2f2"
      },
      "outputs": [
        {
          "output_type": "stream",
          "name": "stdout",
          "text": [
            "[[353  42]\n",
            " [ 65 327]]\n"
          ]
        }
      ],
      "source": [
        "#Confusion Matrix\n",
        "from sklearn.metrics import confusion_matrix\n",
        "cm = confusion_matrix(y_test, prediction)\n",
        "print(cm)"
      ]
    },
    {
      "cell_type": "code",
      "execution_count": null,
      "metadata": {
        "colab": {
          "base_uri": "https://localhost:8080/"
        },
        "id": "_eCDsQ1hIJ98",
        "outputId": "9744e5b9-9f43-4225-9220-f474578897f8"
      },
      "outputs": [
        {
          "output_type": "stream",
          "name": "stdout",
          "text": [
            "DEM           0.174355\n",
            "DTDrainage    0.155009\n",
            "DTRoad        0.123513\n",
            "DTRiver       0.111450\n",
            "Freq          0.098538\n",
            "Rainfall      0.092725\n",
            "TWI           0.060701\n",
            "Curve         0.059290\n",
            "Slope         0.045487\n",
            "Aspect        0.039515\n",
            "CN            0.039418\n",
            "dtype: float64\n"
          ]
        }
      ],
      "source": [
        "#importances = list(model_RF.feature_importances_)\n",
        "feature_imp = pd.Series(model.feature_importances_, index=features_list).sort_values(ascending=False)\n",
        "print(feature_imp)"
      ]
    },
    {
      "cell_type": "code",
      "execution_count": null,
      "metadata": {
        "colab": {
          "base_uri": "https://localhost:8080/",
          "height": 282
        },
        "id": "HVsOXSYOIJ99",
        "outputId": "b57ed0d6-6ecd-471e-e2b2-65a2416894f5"
      },
      "outputs": [
        {
          "output_type": "execute_result",
          "data": {
            "text/plain": [
              "<matplotlib.axes._subplots.AxesSubplot at 0x7fe1506e5810>"
            ]
          },
          "metadata": {},
          "execution_count": 29
        },
        {
          "output_type": "display_data",
          "data": {
            "text/plain": [
              "<Figure size 432x288 with 1 Axes>"
            ],
            "image/png": "[encoded data removed]"
          },
          "metadata": {
            "needs_background": "light"
          }
        }
      ],
      "source": [
        "feature_imp.plot.barh()"
      ]
    },
    {
      "cell_type": "markdown",
      "metadata": {
        "id": "tvmJIA9iIJ9_"
      },
      "source": [
        "# Berlin"
      ]
    },
    {
      "cell_type": "code",
      "source": [
        "!pip3 install pickle5\n",
        "import pickle5 as pickle\n"
      ],
      "metadata": {
        "colab": {
          "base_uri": "https://localhost:8080/"
        },
        "id": "Ao7QCF_HQKu5",
        "outputId": "dfcba265-37f7-47ec-c2ee-a180d4b68d3d"
      },
      "execution_count": null,
      "outputs": [
        {
          "output_type": "stream",
          "name": "stdout",
          "text": [
            "Looking in indexes: https://pypi.org/simple, https://us-python.pkg.dev/colab-wheels/public/simple/\n",
            "Requirement already satisfied: pickle5 in /usr/local/lib/python3.7/dist-packages (0.0.12)\n"
          ]
        }
      ]
    },
    {
      "cell_type": "code",
      "source": [
        "with open('/content/drive/MyDrive/RF_model_Flood_susceptibility/district_2_RF_2m.pkl', \"rb\") as fh:\n",
        "  df = pickle.load(fh)\n"
      ],
      "metadata": {
        "id": "1RSmqfebQwC_"
      },
      "execution_count": null,
      "outputs": []
    },
    {
      "cell_type": "code",
      "source": [
        "df.head()"
      ],
      "metadata": {
        "colab": {
          "base_uri": "https://localhost:8080/",
          "height": 206
        },
        "id": "V-gmkJ-YQ3GQ",
        "outputId": "7c6a26d8-5c4d-4836-9dfe-a10b07b3ae6c"
      },
      "execution_count": null,
      "outputs": [
        {
          "output_type": "execute_result",
          "data": {
            "text/plain": [
              "       VALUE    Aspect    CN       DEM  DTDrainage   DTRiver    DTRoad  \\\n",
              "0  34.580002  0.523138  0.81  0.282316    0.002574  0.033522  0.007252   \n",
              "1  34.580002  0.510413  0.81  0.282224    0.003075  0.033429  0.007729   \n",
              "2  34.580002  0.500386  0.81  0.282241    0.002925  0.033522  0.006224   \n",
              "3  34.590000  0.292593  0.81  0.282350    0.003793  0.033244  0.009160   \n",
              "4  34.570000  0.431156  0.81  0.282189    0.003590  0.033337  0.007593   \n",
              "\n",
              "       Freq     Slope       TWI     Curve  Rainfall  \\\n",
              "0  0.510442  0.009681  0.215963  0.799423  0.623310   \n",
              "1  0.510442  0.005916  0.250464  0.799536  0.623310   \n",
              "2  0.510442  0.005322  0.229668  0.799595  0.623310   \n",
              "3  0.510741  0.016196  0.261043  0.799455  0.623741   \n",
              "4  0.510442  0.003926  0.328652  0.799533  0.623310   \n",
              "\n",
              "                         geometry  \n",
              "0  POINT (389893.708 5818773.972)  \n",
              "1  POINT (389893.708 5818771.972)  \n",
              "2  POINT (389895.708 5818771.972)  \n",
              "3  POINT (389891.708 5818769.972)  \n",
              "4  POINT (389893.708 5818769.972)  "
            ],
            "text/html": [
              "\n",
              "  <div id=\"df-bd5aac6d-d0da-4cb8-8911-07c4d14b1f89\">\n",
              "    <div class=\"colab-df-container\">\n",
              "      <div>\n",
              "<style scoped>\n",
              "    .dataframe tbody tr th:only-of-type {\n",
              "        vertical-align: middle;\n",
              "    }\n",
              "\n",
              "    .dataframe tbody tr th {\n",
              "        vertical-align: top;\n",
              "    }\n",
              "\n",
              "    .dataframe thead th {\n",
              "        text-align: right;\n",
              "    }\n",
              "</style>\n",
              "<table border=\"1\" class=\"dataframe\">\n",
              "  <thead>\n",
              "    <tr style=\"text-align: right;\">\n",
              "      <th></th>\n",
              "      <th>VALUE</th>\n",
              "      <th>Aspect</th>\n",
              "      <th>CN</th>\n",
              "      <th>DEM</th>\n",
              "      <th>DTDrainage</th>\n",
              "      <th>DTRiver</th>\n",
              "      <th>DTRoad</th>\n",
              "      <th>Freq</th>\n",
              "      <th>Slope</th>\n",
              "      <th>TWI</th>\n",
              "      <th>Curve</th>\n",
              "      <th>Rainfall</th>\n",
              "      <th>geometry</th>\n",
              "    </tr>\n",
              "  </thead>\n",
              "  <tbody>\n",
              "    <tr>\n",
              "      <th>0</th>\n",
              "      <td>34.580002</td>\n",
              "      <td>0.523138</td>\n",
              "      <td>0.81</td>\n",
              "      <td>0.282316</td>\n",
              "      <td>0.002574</td>\n",
              "      <td>0.033522</td>\n",
              "      <td>0.007252</td>\n",
              "      <td>0.510442</td>\n",
              "      <td>0.009681</td>\n",
              "      <td>0.215963</td>\n",
              "      <td>0.799423</td>\n",
              "      <td>0.623310</td>\n",
              "      <td>POINT (389893.708 5818773.972)</td>\n",
              "    </tr>\n",
              "    <tr>\n",
              "      <th>1</th>\n",
              "      <td>34.580002</td>\n",
              "      <td>0.510413</td>\n",
              "      <td>0.81</td>\n",
              "      <td>0.282224</td>\n",
              "      <td>0.003075</td>\n",
              "      <td>0.033429</td>\n",
              "      <td>0.007729</td>\n",
              "      <td>0.510442</td>\n",
              "      <td>0.005916</td>\n",
              "      <td>0.250464</td>\n",
              "      <td>0.799536</td>\n",
              "      <td>0.623310</td>\n",
              "      <td>POINT (389893.708 5818771.972)</td>\n",
              "    </tr>\n",
              "    <tr>\n",
              "      <th>2</th>\n",
              "      <td>34.580002</td>\n",
              "      <td>0.500386</td>\n",
              "      <td>0.81</td>\n",
              "      <td>0.282241</td>\n",
              "      <td>0.002925</td>\n",
              "      <td>0.033522</td>\n",
              "      <td>0.006224</td>\n",
              "      <td>0.510442</td>\n",
              "      <td>0.005322</td>\n",
              "      <td>0.229668</td>\n",
              "      <td>0.799595</td>\n",
              "      <td>0.623310</td>\n",
              "      <td>POINT (389895.708 5818771.972)</td>\n",
              "    </tr>\n",
              "    <tr>\n",
              "      <th>3</th>\n",
              "      <td>34.590000</td>\n",
              "      <td>0.292593</td>\n",
              "      <td>0.81</td>\n",
              "      <td>0.282350</td>\n",
              "      <td>0.003793</td>\n",
              "      <td>0.033244</td>\n",
              "      <td>0.009160</td>\n",
              "      <td>0.510741</td>\n",
              "      <td>0.016196</td>\n",
              "      <td>0.261043</td>\n",
              "      <td>0.799455</td>\n",
              "      <td>0.623741</td>\n",
              "      <td>POINT (389891.708 5818769.972)</td>\n",
              "    </tr>\n",
              "    <tr>\n",
              "      <th>4</th>\n",
              "      <td>34.570000</td>\n",
              "      <td>0.431156</td>\n",
              "      <td>0.81</td>\n",
              "      <td>0.282189</td>\n",
              "      <td>0.003590</td>\n",
              "      <td>0.033337</td>\n",
              "      <td>0.007593</td>\n",
              "      <td>0.510442</td>\n",
              "      <td>0.003926</td>\n",
              "      <td>0.328652</td>\n",
              "      <td>0.799533</td>\n",
              "      <td>0.623310</td>\n",
              "      <td>POINT (389893.708 5818769.972)</td>\n",
              "    </tr>\n",
              "  </tbody>\n",
              "</table>\n",
              "</div>\n",
              "      <button class=\"colab-df-convert\" onclick=\"convertToInteractive('df-bd5aac6d-d0da-4cb8-8911-07c4d14b1f89')\"\n",
              "              title=\"Convert this dataframe to an interactive table.\"\n",
              "              style=\"display:none;\">\n",
              "        \n",
              "  <svg xmlns=\"http://www.w3.org/2000/svg\" height=\"24px\"viewBox=\"0 0 24 24\"\n",
              "       width=\"24px\">\n",
              "    <path d=\"M0 0h24v24H0V0z\" fill=\"none\"/>\n",
              "    <path d=\"M18.56 5.44l.94 2.06.94-2.06 2.06-.94-2.06-.94-.94-2.06-.94 2.06-2.06.94zm-11 1L8.5 8.5l.94-2.06 2.06-.94-2.06-.94L8.5 2.5l-.94 2.06-2.06.94zm10 10l.94 2.06.94-2.06 2.06-.94-2.06-.94-.94-2.06-.94 2.06-2.06.94z\"/><path d=\"M17.41 7.96l-1.37-1.37c-.4-.4-.92-.59-1.43-.59-.52 0-1.04.2-1.43.59L10.3 9.45l-7.72 7.72c-.78.78-.78 2.05 0 2.83L4 21.41c.39.39.9.59 1.41.59.51 0 1.02-.2 1.41-.59l7.78-7.78 2.81-2.81c.8-.78.8-2.07 0-2.86zM5.41 20L4 18.59l7.72-7.72 1.47 1.35L5.41 20z\"/>\n",
              "  </svg>\n",
              "      </button>\n",
              "      \n",
              "  <style>\n",
              "    .colab-df-container {\n",
              "      display:flex;\n",
              "      flex-wrap:wrap;\n",
              "      gap: 12px;\n",
              "    }\n",
              "\n",
              "    .colab-df-convert {\n",
              "      background-color: #E8F0FE;\n",
              "      border: none;\n",
              "      border-radius: 50%;\n",
              "      cursor: pointer;\n",
              "      display: none;\n",
              "      fill: #1967D2;\n",
              "      height: 32px;\n",
              "      padding: 0 0 0 0;\n",
              "      width: 32px;\n",
              "    }\n",
              "\n",
              "    .colab-df-convert:hover {\n",
              "      background-color: #E2EBFA;\n",
              "      box-shadow: 0px 1px 2px rgba(60, 64, 67, 0.3), 0px 1px 3px 1px rgba(60, 64, 67, 0.15);\n",
              "      fill: #174EA6;\n",
              "    }\n",
              "\n",
              "    [theme=dark] .colab-df-convert {\n",
              "      background-color: #3B4455;\n",
              "      fill: #D2E3FC;\n",
              "    }\n",
              "\n",
              "    [theme=dark] .colab-df-convert:hover {\n",
              "      background-color: #434B5C;\n",
              "      box-shadow: 0px 1px 3px 1px rgba(0, 0, 0, 0.15);\n",
              "      filter: drop-shadow(0px 1px 2px rgba(0, 0, 0, 0.3));\n",
              "      fill: #FFFFFF;\n",
              "    }\n",
              "  </style>\n",
              "\n",
              "      <script>\n",
              "        const buttonEl =\n",
              "          document.querySelector('#df-bd5aac6d-d0da-4cb8-8911-07c4d14b1f89 button.colab-df-convert');\n",
              "        buttonEl.style.display =\n",
              "          google.colab.kernel.accessAllowed ? 'block' : 'none';\n",
              "\n",
              "        async function convertToInteractive(key) {\n",
              "          const element = document.querySelector('#df-bd5aac6d-d0da-4cb8-8911-07c4d14b1f89');\n",
              "          const dataTable =\n",
              "            await google.colab.kernel.invokeFunction('convertToInteractive',\n",
              "                                                     [key], {});\n",
              "          if (!dataTable) return;\n",
              "\n",
              "          const docLinkHtml = 'Like what you see? Visit the ' +\n",
              "            '<a target=\"_blank\" href=https://colab.research.google.com/notebooks/data_table.ipynb>data table notebook</a>'\n",
              "            + ' to learn more about interactive tables.';\n",
              "          element.innerHTML = '';\n",
              "          dataTable['output_type'] = 'display_data';\n",
              "          await google.colab.output.renderOutput(dataTable, element);\n",
              "          const docLink = document.createElement('div');\n",
              "          docLink.innerHTML = docLinkHtml;\n",
              "          element.appendChild(docLink);\n",
              "        }\n",
              "      </script>\n",
              "    </div>\n",
              "  </div>\n",
              "  "
            ]
          },
          "metadata": {},
          "execution_count": 32
        }
      ]
    },
    {
      "cell_type": "code",
      "execution_count": null,
      "metadata": {
        "colab": {
          "base_uri": "https://localhost:8080/",
          "height": 206
        },
        "id": "p4r1oaeUIJ-L",
        "outputId": "16ff7bc4-72bf-4a52-becc-c1b81710a735"
      },
      "outputs": [
        {
          "output_type": "execute_result",
          "data": {
            "text/plain": [
              "     Aspect    CN       DEM  DTDrainage   DTRiver    DTRoad      Freq  \\\n",
              "0  0.523138  0.81  0.282316    0.002574  0.033522  0.007252  0.510442   \n",
              "1  0.510413  0.81  0.282224    0.003075  0.033429  0.007729  0.510442   \n",
              "2  0.500386  0.81  0.282241    0.002925  0.033522  0.006224  0.510442   \n",
              "3  0.292593  0.81  0.282350    0.003793  0.033244  0.009160  0.510741   \n",
              "4  0.431156  0.81  0.282189    0.003590  0.033337  0.007593  0.510442   \n",
              "\n",
              "      Slope       TWI     Curve  Rainfall  \n",
              "0  0.009681  0.215963  0.799423  0.623310  \n",
              "1  0.005916  0.250464  0.799536  0.623310  \n",
              "2  0.005322  0.229668  0.799595  0.623310  \n",
              "3  0.016196  0.261043  0.799455  0.623741  \n",
              "4  0.003926  0.328652  0.799533  0.623310  "
            ],
            "text/html": [
              "\n",
              "  <div id=\"df-29e7039d-c622-4fe2-ac07-c21c5f51fa49\">\n",
              "    <div class=\"colab-df-container\">\n",
              "      <div>\n",
              "<style scoped>\n",
              "    .dataframe tbody tr th:only-of-type {\n",
              "        vertical-align: middle;\n",
              "    }\n",
              "\n",
              "    .dataframe tbody tr th {\n",
              "        vertical-align: top;\n",
              "    }\n",
              "\n",
              "    .dataframe thead th {\n",
              "        text-align: right;\n",
              "    }\n",
              "</style>\n",
              "<table border=\"1\" class=\"dataframe\">\n",
              "  <thead>\n",
              "    <tr style=\"text-align: right;\">\n",
              "      <th></th>\n",
              "      <th>Aspect</th>\n",
              "      <th>CN</th>\n",
              "      <th>DEM</th>\n",
              "      <th>DTDrainage</th>\n",
              "      <th>DTRiver</th>\n",
              "      <th>DTRoad</th>\n",
              "      <th>Freq</th>\n",
              "      <th>Slope</th>\n",
              "      <th>TWI</th>\n",
              "      <th>Curve</th>\n",
              "      <th>Rainfall</th>\n",
              "    </tr>\n",
              "  </thead>\n",
              "  <tbody>\n",
              "    <tr>\n",
              "      <th>0</th>\n",
              "      <td>0.523138</td>\n",
              "      <td>0.81</td>\n",
              "      <td>0.282316</td>\n",
              "      <td>0.002574</td>\n",
              "      <td>0.033522</td>\n",
              "      <td>0.007252</td>\n",
              "      <td>0.510442</td>\n",
              "      <td>0.009681</td>\n",
              "      <td>0.215963</td>\n",
              "      <td>0.799423</td>\n",
              "      <td>0.623310</td>\n",
              "    </tr>\n",
              "    <tr>\n",
              "      <th>1</th>\n",
              "      <td>0.510413</td>\n",
              "      <td>0.81</td>\n",
              "      <td>0.282224</td>\n",
              "      <td>0.003075</td>\n",
              "      <td>0.033429</td>\n",
              "      <td>0.007729</td>\n",
              "      <td>0.510442</td>\n",
              "      <td>0.005916</td>\n",
              "      <td>0.250464</td>\n",
              "      <td>0.799536</td>\n",
              "      <td>0.623310</td>\n",
              "    </tr>\n",
              "    <tr>\n",
              "      <th>2</th>\n",
              "      <td>0.500386</td>\n",
              "      <td>0.81</td>\n",
              "      <td>0.282241</td>\n",
              "      <td>0.002925</td>\n",
              "      <td>0.033522</td>\n",
              "      <td>0.006224</td>\n",
              "      <td>0.510442</td>\n",
              "      <td>0.005322</td>\n",
              "      <td>0.229668</td>\n",
              "      <td>0.799595</td>\n",
              "      <td>0.623310</td>\n",
              "    </tr>\n",
              "    <tr>\n",
              "      <th>3</th>\n",
              "      <td>0.292593</td>\n",
              "      <td>0.81</td>\n",
              "      <td>0.282350</td>\n",
              "      <td>0.003793</td>\n",
              "      <td>0.033244</td>\n",
              "      <td>0.009160</td>\n",
              "      <td>0.510741</td>\n",
              "      <td>0.016196</td>\n",
              "      <td>0.261043</td>\n",
              "      <td>0.799455</td>\n",
              "      <td>0.623741</td>\n",
              "    </tr>\n",
              "    <tr>\n",
              "      <th>4</th>\n",
              "      <td>0.431156</td>\n",
              "      <td>0.81</td>\n",
              "      <td>0.282189</td>\n",
              "      <td>0.003590</td>\n",
              "      <td>0.033337</td>\n",
              "      <td>0.007593</td>\n",
              "      <td>0.510442</td>\n",
              "      <td>0.003926</td>\n",
              "      <td>0.328652</td>\n",
              "      <td>0.799533</td>\n",
              "      <td>0.623310</td>\n",
              "    </tr>\n",
              "  </tbody>\n",
              "</table>\n",
              "</div>\n",
              "      <button class=\"colab-df-convert\" onclick=\"convertToInteractive('df-29e7039d-c622-4fe2-ac07-c21c5f51fa49')\"\n",
              "              title=\"Convert this dataframe to an interactive table.\"\n",
              "              style=\"display:none;\">\n",
              "        \n",
              "  <svg xmlns=\"http://www.w3.org/2000/svg\" height=\"24px\"viewBox=\"0 0 24 24\"\n",
              "       width=\"24px\">\n",
              "    <path d=\"M0 0h24v24H0V0z\" fill=\"none\"/>\n",
              "    <path d=\"M18.56 5.44l.94 2.06.94-2.06 2.06-.94-2.06-.94-.94-2.06-.94 2.06-2.06.94zm-11 1L8.5 8.5l.94-2.06 2.06-.94-2.06-.94L8.5 2.5l-.94 2.06-2.06.94zm10 10l.94 2.06.94-2.06 2.06-.94-2.06-.94-.94-2.06-.94 2.06-2.06.94z\"/><path d=\"M17.41 7.96l-1.37-1.37c-.4-.4-.92-.59-1.43-.59-.52 0-1.04.2-1.43.59L10.3 9.45l-7.72 7.72c-.78.78-.78 2.05 0 2.83L4 21.41c.39.39.9.59 1.41.59.51 0 1.02-.2 1.41-.59l7.78-7.78 2.81-2.81c.8-.78.8-2.07 0-2.86zM5.41 20L4 18.59l7.72-7.72 1.47 1.35L5.41 20z\"/>\n",
              "  </svg>\n",
              "      </button>\n",
              "      \n",
              "  <style>\n",
              "    .colab-df-container {\n",
              "      display:flex;\n",
              "      flex-wrap:wrap;\n",
              "      gap: 12px;\n",
              "    }\n",
              "\n",
              "    .colab-df-convert {\n",
              "      background-color: #E8F0FE;\n",
              "      border: none;\n",
              "      border-radius: 50%;\n",
              "      cursor: pointer;\n",
              "      display: none;\n",
              "      fill: #1967D2;\n",
              "      height: 32px;\n",
              "      padding: 0 0 0 0;\n",
              "      width: 32px;\n",
              "    }\n",
              "\n",
              "    .colab-df-convert:hover {\n",
              "      background-color: #E2EBFA;\n",
              "      box-shadow: 0px 1px 2px rgba(60, 64, 67, 0.3), 0px 1px 3px 1px rgba(60, 64, 67, 0.15);\n",
              "      fill: #174EA6;\n",
              "    }\n",
              "\n",
              "    [theme=dark] .colab-df-convert {\n",
              "      background-color: #3B4455;\n",
              "      fill: #D2E3FC;\n",
              "    }\n",
              "\n",
              "    [theme=dark] .colab-df-convert:hover {\n",
              "      background-color: #434B5C;\n",
              "      box-shadow: 0px 1px 3px 1px rgba(0, 0, 0, 0.15);\n",
              "      filter: drop-shadow(0px 1px 2px rgba(0, 0, 0, 0.3));\n",
              "      fill: #FFFFFF;\n",
              "    }\n",
              "  </style>\n",
              "\n",
              "      <script>\n",
              "        const buttonEl =\n",
              "          document.querySelector('#df-29e7039d-c622-4fe2-ac07-c21c5f51fa49 button.colab-df-convert');\n",
              "        buttonEl.style.display =\n",
              "          google.colab.kernel.accessAllowed ? 'block' : 'none';\n",
              "\n",
              "        async function convertToInteractive(key) {\n",
              "          const element = document.querySelector('#df-29e7039d-c622-4fe2-ac07-c21c5f51fa49');\n",
              "          const dataTable =\n",
              "            await google.colab.kernel.invokeFunction('convertToInteractive',\n",
              "                                                     [key], {});\n",
              "          if (!dataTable) return;\n",
              "\n",
              "          const docLinkHtml = 'Like what you see? Visit the ' +\n",
              "            '<a target=\"_blank\" href=https://colab.research.google.com/notebooks/data_table.ipynb>data table notebook</a>'\n",
              "            + ' to learn more about interactive tables.';\n",
              "          element.innerHTML = '';\n",
              "          dataTable['output_type'] = 'display_data';\n",
              "          await google.colab.output.renderOutput(dataTable, element);\n",
              "          const docLink = document.createElement('div');\n",
              "          docLink.innerHTML = docLinkHtml;\n",
              "          element.appendChild(docLink);\n",
              "        }\n",
              "      </script>\n",
              "    </div>\n",
              "  </div>\n",
              "  "
            ]
          },
          "metadata": {},
          "execution_count": 33
        }
      ],
      "source": [
        "X_hotspot0= df.drop(labels = [\"geometry\",'VALUE'], axis=1) \n",
        "X_hotspot0.head()"
      ]
    },
    {
      "cell_type": "code",
      "execution_count": null,
      "metadata": {
        "colab": {
          "base_uri": "https://localhost:8080/"
        },
        "id": "kvNR89vrIJ-L",
        "outputId": "81b06d2c-073e-4475-8d59-7f42e241f7b0"
      },
      "outputs": [
        {
          "output_type": "execute_result",
          "data": {
            "text/plain": [
              "Index(['Aspect', 'CN', 'Curve', 'DEM', 'DTDrainage', 'DTRiver', 'DTRoad',\n",
              "       'Freq', 'Rainfall', 'Slope', 'TWI'],\n",
              "      dtype='object')"
            ]
          },
          "metadata": {},
          "execution_count": 34
        }
      ],
      "source": [
        "cols=X.columns\n",
        "cols"
      ]
    },
    {
      "cell_type": "code",
      "execution_count": null,
      "metadata": {
        "colab": {
          "base_uri": "https://localhost:8080/",
          "height": 206
        },
        "id": "85akwKz3IJ-M",
        "outputId": "5b21157e-31bc-40ad-81a1-834e03c5b7c7"
      },
      "outputs": [
        {
          "output_type": "execute_result",
          "data": {
            "text/plain": [
              "     Aspect    CN     Curve       DEM  DTDrainage   DTRiver    DTRoad  \\\n",
              "0  0.523138  0.81  0.799423  0.282316    0.002574  0.033522  0.007252   \n",
              "1  0.510413  0.81  0.799536  0.282224    0.003075  0.033429  0.007729   \n",
              "2  0.500386  0.81  0.799595  0.282241    0.002925  0.033522  0.006224   \n",
              "3  0.292593  0.81  0.799455  0.282350    0.003793  0.033244  0.009160   \n",
              "4  0.431156  0.81  0.799533  0.282189    0.003590  0.033337  0.007593   \n",
              "\n",
              "       Freq  Rainfall     Slope       TWI  \n",
              "0  0.510442  0.623310  0.009681  0.215963  \n",
              "1  0.510442  0.623310  0.005916  0.250464  \n",
              "2  0.510442  0.623310  0.005322  0.229668  \n",
              "3  0.510741  0.623741  0.016196  0.261043  \n",
              "4  0.510442  0.623310  0.003926  0.328652  "
            ],
            "text/html": [
              "\n",
              "  <div id=\"df-2c9b5143-8013-4b14-b7bc-ee000e8c3e14\">\n",
              "    <div class=\"colab-df-container\">\n",
              "      <div>\n",
              "<style scoped>\n",
              "    .dataframe tbody tr th:only-of-type {\n",
              "        vertical-align: middle;\n",
              "    }\n",
              "\n",
              "    .dataframe tbody tr th {\n",
              "        vertical-align: top;\n",
              "    }\n",
              "\n",
              "    .dataframe thead th {\n",
              "        text-align: right;\n",
              "    }\n",
              "</style>\n",
              "<table border=\"1\" class=\"dataframe\">\n",
              "  <thead>\n",
              "    <tr style=\"text-align: right;\">\n",
              "      <th></th>\n",
              "      <th>Aspect</th>\n",
              "      <th>CN</th>\n",
              "      <th>Curve</th>\n",
              "      <th>DEM</th>\n",
              "      <th>DTDrainage</th>\n",
              "      <th>DTRiver</th>\n",
              "      <th>DTRoad</th>\n",
              "      <th>Freq</th>\n",
              "      <th>Rainfall</th>\n",
              "      <th>Slope</th>\n",
              "      <th>TWI</th>\n",
              "    </tr>\n",
              "  </thead>\n",
              "  <tbody>\n",
              "    <tr>\n",
              "      <th>0</th>\n",
              "      <td>0.523138</td>\n",
              "      <td>0.81</td>\n",
              "      <td>0.799423</td>\n",
              "      <td>0.282316</td>\n",
              "      <td>0.002574</td>\n",
              "      <td>0.033522</td>\n",
              "      <td>0.007252</td>\n",
              "      <td>0.510442</td>\n",
              "      <td>0.623310</td>\n",
              "      <td>0.009681</td>\n",
              "      <td>0.215963</td>\n",
              "    </tr>\n",
              "    <tr>\n",
              "      <th>1</th>\n",
              "      <td>0.510413</td>\n",
              "      <td>0.81</td>\n",
              "      <td>0.799536</td>\n",
              "      <td>0.282224</td>\n",
              "      <td>0.003075</td>\n",
              "      <td>0.033429</td>\n",
              "      <td>0.007729</td>\n",
              "      <td>0.510442</td>\n",
              "      <td>0.623310</td>\n",
              "      <td>0.005916</td>\n",
              "      <td>0.250464</td>\n",
              "    </tr>\n",
              "    <tr>\n",
              "      <th>2</th>\n",
              "      <td>0.500386</td>\n",
              "      <td>0.81</td>\n",
              "      <td>0.799595</td>\n",
              "      <td>0.282241</td>\n",
              "      <td>0.002925</td>\n",
              "      <td>0.033522</td>\n",
              "      <td>0.006224</td>\n",
              "      <td>0.510442</td>\n",
              "      <td>0.623310</td>\n",
              "      <td>0.005322</td>\n",
              "      <td>0.229668</td>\n",
              "    </tr>\n",
              "    <tr>\n",
              "      <th>3</th>\n",
              "      <td>0.292593</td>\n",
              "      <td>0.81</td>\n",
              "      <td>0.799455</td>\n",
              "      <td>0.282350</td>\n",
              "      <td>0.003793</td>\n",
              "      <td>0.033244</td>\n",
              "      <td>0.009160</td>\n",
              "      <td>0.510741</td>\n",
              "      <td>0.623741</td>\n",
              "      <td>0.016196</td>\n",
              "      <td>0.261043</td>\n",
              "    </tr>\n",
              "    <tr>\n",
              "      <th>4</th>\n",
              "      <td>0.431156</td>\n",
              "      <td>0.81</td>\n",
              "      <td>0.799533</td>\n",
              "      <td>0.282189</td>\n",
              "      <td>0.003590</td>\n",
              "      <td>0.033337</td>\n",
              "      <td>0.007593</td>\n",
              "      <td>0.510442</td>\n",
              "      <td>0.623310</td>\n",
              "      <td>0.003926</td>\n",
              "      <td>0.328652</td>\n",
              "    </tr>\n",
              "  </tbody>\n",
              "</table>\n",
              "</div>\n",
              "      <button class=\"colab-df-convert\" onclick=\"convertToInteractive('df-2c9b5143-8013-4b14-b7bc-ee000e8c3e14')\"\n",
              "              title=\"Convert this dataframe to an interactive table.\"\n",
              "              style=\"display:none;\">\n",
              "        \n",
              "  <svg xmlns=\"http://www.w3.org/2000/svg\" height=\"24px\"viewBox=\"0 0 24 24\"\n",
              "       width=\"24px\">\n",
              "    <path d=\"M0 0h24v24H0V0z\" fill=\"none\"/>\n",
              "    <path d=\"M18.56 5.44l.94 2.06.94-2.06 2.06-.94-2.06-.94-.94-2.06-.94 2.06-2.06.94zm-11 1L8.5 8.5l.94-2.06 2.06-.94-2.06-.94L8.5 2.5l-.94 2.06-2.06.94zm10 10l.94 2.06.94-2.06 2.06-.94-2.06-.94-.94-2.06-.94 2.06-2.06.94z\"/><path d=\"M17.41 7.96l-1.37-1.37c-.4-.4-.92-.59-1.43-.59-.52 0-1.04.2-1.43.59L10.3 9.45l-7.72 7.72c-.78.78-.78 2.05 0 2.83L4 21.41c.39.39.9.59 1.41.59.51 0 1.02-.2 1.41-.59l7.78-7.78 2.81-2.81c.8-.78.8-2.07 0-2.86zM5.41 20L4 18.59l7.72-7.72 1.47 1.35L5.41 20z\"/>\n",
              "  </svg>\n",
              "      </button>\n",
              "      \n",
              "  <style>\n",
              "    .colab-df-container {\n",
              "      display:flex;\n",
              "      flex-wrap:wrap;\n",
              "      gap: 12px;\n",
              "    }\n",
              "\n",
              "    .colab-df-convert {\n",
              "      background-color: #E8F0FE;\n",
              "      border: none;\n",
              "      border-radius: 50%;\n",
              "      cursor: pointer;\n",
              "      display: none;\n",
              "      fill: #1967D2;\n",
              "      height: 32px;\n",
              "      padding: 0 0 0 0;\n",
              "      width: 32px;\n",
              "    }\n",
              "\n",
              "    .colab-df-convert:hover {\n",
              "      background-color: #E2EBFA;\n",
              "      box-shadow: 0px 1px 2px rgba(60, 64, 67, 0.3), 0px 1px 3px 1px rgba(60, 64, 67, 0.15);\n",
              "      fill: #174EA6;\n",
              "    }\n",
              "\n",
              "    [theme=dark] .colab-df-convert {\n",
              "      background-color: #3B4455;\n",
              "      fill: #D2E3FC;\n",
              "    }\n",
              "\n",
              "    [theme=dark] .colab-df-convert:hover {\n",
              "      background-color: #434B5C;\n",
              "      box-shadow: 0px 1px 3px 1px rgba(0, 0, 0, 0.15);\n",
              "      filter: drop-shadow(0px 1px 2px rgba(0, 0, 0, 0.3));\n",
              "      fill: #FFFFFF;\n",
              "    }\n",
              "  </style>\n",
              "\n",
              "      <script>\n",
              "        const buttonEl =\n",
              "          document.querySelector('#df-2c9b5143-8013-4b14-b7bc-ee000e8c3e14 button.colab-df-convert');\n",
              "        buttonEl.style.display =\n",
              "          google.colab.kernel.accessAllowed ? 'block' : 'none';\n",
              "\n",
              "        async function convertToInteractive(key) {\n",
              "          const element = document.querySelector('#df-2c9b5143-8013-4b14-b7bc-ee000e8c3e14');\n",
              "          const dataTable =\n",
              "            await google.colab.kernel.invokeFunction('convertToInteractive',\n",
              "                                                     [key], {});\n",
              "          if (!dataTable) return;\n",
              "\n",
              "          const docLinkHtml = 'Like what you see? Visit the ' +\n",
              "            '<a target=\"_blank\" href=https://colab.research.google.com/notebooks/data_table.ipynb>data table notebook</a>'\n",
              "            + ' to learn more about interactive tables.';\n",
              "          element.innerHTML = '';\n",
              "          dataTable['output_type'] = 'display_data';\n",
              "          await google.colab.output.renderOutput(dataTable, element);\n",
              "          const docLink = document.createElement('div');\n",
              "          docLink.innerHTML = docLinkHtml;\n",
              "          element.appendChild(docLink);\n",
              "        }\n",
              "      </script>\n",
              "    </div>\n",
              "  </div>\n",
              "  "
            ]
          },
          "metadata": {},
          "execution_count": 35
        }
      ],
      "source": [
        "X_hotspot0=X_hotspot0[cols]\n",
        "X_hotspot0.head()"
      ]
    },
    {
      "cell_type": "code",
      "execution_count": null,
      "metadata": {
        "colab": {
          "base_uri": "https://localhost:8080/"
        },
        "id": "ky3INRrQIJ-M",
        "outputId": "c2ac2e32-a378-4575-c7e6-7923561d5b54"
      },
      "outputs": [
        {
          "output_type": "stream",
          "name": "stdout",
          "text": [
            "Aspect        0\n",
            "CN            0\n",
            "Curve         0\n",
            "DEM           0\n",
            "DTDrainage    0\n",
            "DTRiver       0\n",
            "DTRoad        0\n",
            "Freq          0\n",
            "Rainfall      0\n",
            "Slope         0\n",
            "TWI           0\n",
            "dtype: int64\n"
          ]
        }
      ],
      "source": [
        "print(X_hotspot0.isnull().sum())\n"
      ]
    },
    {
      "cell_type": "code",
      "execution_count": null,
      "metadata": {
        "id": "TXh1skroIJ-N"
      },
      "outputs": [],
      "source": [
        "X_hotspot0 = X_hotspot0.dropna()"
      ]
    },
    {
      "cell_type": "code",
      "execution_count": null,
      "metadata": {
        "id": "fG2QtGAHIJ-N"
      },
      "outputs": [],
      "source": [
        "df=df.dropna()"
      ]
    },
    {
      "cell_type": "code",
      "execution_count": null,
      "metadata": {
        "id": "7zUFt6VaIJ-N"
      },
      "outputs": [],
      "source": [
        "prediction_prob=model.predict_proba(X_hotspot0)"
      ]
    },
    {
      "cell_type": "code",
      "execution_count": null,
      "metadata": {
        "colab": {
          "base_uri": "https://localhost:8080/"
        },
        "id": "ycqAWDb0IJ-N",
        "outputId": "0321e6eb-fbb1-43c1-8ee7-0a58388b338f"
      },
      "outputs": [
        {
          "output_type": "execute_result",
          "data": {
            "text/plain": [
              "array([[0.1 , 0.9 ],\n",
              "       [0.08, 0.92],\n",
              "       [0.09, 0.91],\n",
              "       ...,\n",
              "       [0.87, 0.13],\n",
              "       [0.9 , 0.1 ],\n",
              "       [0.87, 0.13]])"
            ]
          },
          "metadata": {},
          "execution_count": 40
        }
      ],
      "source": [
        "prediction_prob"
      ]
    },
    {
      "cell_type": "code",
      "execution_count": null,
      "metadata": {
        "colab": {
          "base_uri": "https://localhost:8080/"
        },
        "id": "E12pnmUZIJ-O",
        "outputId": "e7bb6068-9869-4ecd-cfeb-1bd5fd30f768"
      },
      "outputs": [
        {
          "output_type": "execute_result",
          "data": {
            "text/plain": [
              "array([0.9 , 0.92, 0.91, ..., 0.13, 0.1 , 0.13])"
            ]
          },
          "metadata": {},
          "execution_count": 41
        }
      ],
      "source": [
        "ls_hotspot0=prediction_prob[:,1]\n",
        "ls_hotspot0"
      ]
    },
    {
      "cell_type": "code",
      "execution_count": null,
      "metadata": {
        "colab": {
          "base_uri": "https://localhost:8080/",
          "height": 206
        },
        "id": "j6wHQ58mIJ-O",
        "outputId": "25ba5eaf-691f-4f38-e7b5-743836eb00a4"
      },
      "outputs": [
        {
          "output_type": "execute_result",
          "data": {
            "text/plain": [
              "       VALUE    Aspect    CN       DEM  DTDrainage   DTRiver    DTRoad  \\\n",
              "0  34.580002  0.523138  0.81  0.282316    0.002574  0.033522  0.007252   \n",
              "1  34.580002  0.510413  0.81  0.282224    0.003075  0.033429  0.007729   \n",
              "2  34.580002  0.500386  0.81  0.282241    0.002925  0.033522  0.006224   \n",
              "3  34.590000  0.292593  0.81  0.282350    0.003793  0.033244  0.009160   \n",
              "4  34.570000  0.431156  0.81  0.282189    0.003590  0.033337  0.007593   \n",
              "\n",
              "       Freq     Slope       TWI     Curve  Rainfall  \\\n",
              "0  0.510442  0.009681  0.215963  0.799423  0.623310   \n",
              "1  0.510442  0.005916  0.250464  0.799536  0.623310   \n",
              "2  0.510442  0.005322  0.229668  0.799595  0.623310   \n",
              "3  0.510741  0.016196  0.261043  0.799455  0.623741   \n",
              "4  0.510442  0.003926  0.328652  0.799533  0.623310   \n",
              "\n",
              "                         geometry   FSM  \n",
              "0  POINT (389893.708 5818773.972)  0.90  \n",
              "1  POINT (389893.708 5818771.972)  0.92  \n",
              "2  POINT (389895.708 5818771.972)  0.91  \n",
              "3  POINT (389891.708 5818769.972)  0.92  \n",
              "4  POINT (389893.708 5818769.972)  0.93  "
            ],
            "text/html": [
              "\n",
              "  <div id=\"df-25b7a00e-5100-401d-ae58-21ae2e29ddee\">\n",
              "    <div class=\"colab-df-container\">\n",
              "      <div>\n",
              "<style scoped>\n",
              "    .dataframe tbody tr th:only-of-type {\n",
              "        vertical-align: middle;\n",
              "    }\n",
              "\n",
              "    .dataframe tbody tr th {\n",
              "        vertical-align: top;\n",
              "    }\n",
              "\n",
              "    .dataframe thead th {\n",
              "        text-align: right;\n",
              "    }\n",
              "</style>\n",
              "<table border=\"1\" class=\"dataframe\">\n",
              "  <thead>\n",
              "    <tr style=\"text-align: right;\">\n",
              "      <th></th>\n",
              "      <th>VALUE</th>\n",
              "      <th>Aspect</th>\n",
              "      <th>CN</th>\n",
              "      <th>DEM</th>\n",
              "      <th>DTDrainage</th>\n",
              "      <th>DTRiver</th>\n",
              "      <th>DTRoad</th>\n",
              "      <th>Freq</th>\n",
              "      <th>Slope</th>\n",
              "      <th>TWI</th>\n",
              "      <th>Curve</th>\n",
              "      <th>Rainfall</th>\n",
              "      <th>geometry</th>\n",
              "      <th>FSM</th>\n",
              "    </tr>\n",
              "  </thead>\n",
              "  <tbody>\n",
              "    <tr>\n",
              "      <th>0</th>\n",
              "      <td>34.580002</td>\n",
              "      <td>0.523138</td>\n",
              "      <td>0.81</td>\n",
              "      <td>0.282316</td>\n",
              "      <td>0.002574</td>\n",
              "      <td>0.033522</td>\n",
              "      <td>0.007252</td>\n",
              "      <td>0.510442</td>\n",
              "      <td>0.009681</td>\n",
              "      <td>0.215963</td>\n",
              "      <td>0.799423</td>\n",
              "      <td>0.623310</td>\n",
              "      <td>POINT (389893.708 5818773.972)</td>\n",
              "      <td>0.90</td>\n",
              "    </tr>\n",
              "    <tr>\n",
              "      <th>1</th>\n",
              "      <td>34.580002</td>\n",
              "      <td>0.510413</td>\n",
              "      <td>0.81</td>\n",
              "      <td>0.282224</td>\n",
              "      <td>0.003075</td>\n",
              "      <td>0.033429</td>\n",
              "      <td>0.007729</td>\n",
              "      <td>0.510442</td>\n",
              "      <td>0.005916</td>\n",
              "      <td>0.250464</td>\n",
              "      <td>0.799536</td>\n",
              "      <td>0.623310</td>\n",
              "      <td>POINT (389893.708 5818771.972)</td>\n",
              "      <td>0.92</td>\n",
              "    </tr>\n",
              "    <tr>\n",
              "      <th>2</th>\n",
              "      <td>34.580002</td>\n",
              "      <td>0.500386</td>\n",
              "      <td>0.81</td>\n",
              "      <td>0.282241</td>\n",
              "      <td>0.002925</td>\n",
              "      <td>0.033522</td>\n",
              "      <td>0.006224</td>\n",
              "      <td>0.510442</td>\n",
              "      <td>0.005322</td>\n",
              "      <td>0.229668</td>\n",
              "      <td>0.799595</td>\n",
              "      <td>0.623310</td>\n",
              "      <td>POINT (389895.708 5818771.972)</td>\n",
              "      <td>0.91</td>\n",
              "    </tr>\n",
              "    <tr>\n",
              "      <th>3</th>\n",
              "      <td>34.590000</td>\n",
              "      <td>0.292593</td>\n",
              "      <td>0.81</td>\n",
              "      <td>0.282350</td>\n",
              "      <td>0.003793</td>\n",
              "      <td>0.033244</td>\n",
              "      <td>0.009160</td>\n",
              "      <td>0.510741</td>\n",
              "      <td>0.016196</td>\n",
              "      <td>0.261043</td>\n",
              "      <td>0.799455</td>\n",
              "      <td>0.623741</td>\n",
              "      <td>POINT (389891.708 5818769.972)</td>\n",
              "      <td>0.92</td>\n",
              "    </tr>\n",
              "    <tr>\n",
              "      <th>4</th>\n",
              "      <td>34.570000</td>\n",
              "      <td>0.431156</td>\n",
              "      <td>0.81</td>\n",
              "      <td>0.282189</td>\n",
              "      <td>0.003590</td>\n",
              "      <td>0.033337</td>\n",
              "      <td>0.007593</td>\n",
              "      <td>0.510442</td>\n",
              "      <td>0.003926</td>\n",
              "      <td>0.328652</td>\n",
              "      <td>0.799533</td>\n",
              "      <td>0.623310</td>\n",
              "      <td>POINT (389893.708 5818769.972)</td>\n",
              "      <td>0.93</td>\n",
              "    </tr>\n",
              "  </tbody>\n",
              "</table>\n",
              "</div>\n",
              "      <button class=\"colab-df-convert\" onclick=\"convertToInteractive('df-25b7a00e-5100-401d-ae58-21ae2e29ddee')\"\n",
              "              title=\"Convert this dataframe to an interactive table.\"\n",
              "              style=\"display:none;\">\n",
              "        \n",
              "  <svg xmlns=\"http://www.w3.org/2000/svg\" height=\"24px\"viewBox=\"0 0 24 24\"\n",
              "       width=\"24px\">\n",
              "    <path d=\"M0 0h24v24H0V0z\" fill=\"none\"/>\n",
              "    <path d=\"M18.56 5.44l.94 2.06.94-2.06 2.06-.94-2.06-.94-.94-2.06-.94 2.06-2.06.94zm-11 1L8.5 8.5l.94-2.06 2.06-.94-2.06-.94L8.5 2.5l-.94 2.06-2.06.94zm10 10l.94 2.06.94-2.06 2.06-.94-2.06-.94-.94-2.06-.94 2.06-2.06.94z\"/><path d=\"M17.41 7.96l-1.37-1.37c-.4-.4-.92-.59-1.43-.59-.52 0-1.04.2-1.43.59L10.3 9.45l-7.72 7.72c-.78.78-.78 2.05 0 2.83L4 21.41c.39.39.9.59 1.41.59.51 0 1.02-.2 1.41-.59l7.78-7.78 2.81-2.81c.8-.78.8-2.07 0-2.86zM5.41 20L4 18.59l7.72-7.72 1.47 1.35L5.41 20z\"/>\n",
              "  </svg>\n",
              "      </button>\n",
              "      \n",
              "  <style>\n",
              "    .colab-df-container {\n",
              "      display:flex;\n",
              "      flex-wrap:wrap;\n",
              "      gap: 12px;\n",
              "    }\n",
              "\n",
              "    .colab-df-convert {\n",
              "      background-color: #E8F0FE;\n",
              "      border: none;\n",
              "      border-radius: 50%;\n",
              "      cursor: pointer;\n",
              "      display: none;\n",
              "      fill: #1967D2;\n",
              "      height: 32px;\n",
              "      padding: 0 0 0 0;\n",
              "      width: 32px;\n",
              "    }\n",
              "\n",
              "    .colab-df-convert:hover {\n",
              "      background-color: #E2EBFA;\n",
              "      box-shadow: 0px 1px 2px rgba(60, 64, 67, 0.3), 0px 1px 3px 1px rgba(60, 64, 67, 0.15);\n",
              "      fill: #174EA6;\n",
              "    }\n",
              "\n",
              "    [theme=dark] .colab-df-convert {\n",
              "      background-color: #3B4455;\n",
              "      fill: #D2E3FC;\n",
              "    }\n",
              "\n",
              "    [theme=dark] .colab-df-convert:hover {\n",
              "      background-color: #434B5C;\n",
              "      box-shadow: 0px 1px 3px 1px rgba(0, 0, 0, 0.15);\n",
              "      filter: drop-shadow(0px 1px 2px rgba(0, 0, 0, 0.3));\n",
              "      fill: #FFFFFF;\n",
              "    }\n",
              "  </style>\n",
              "\n",
              "      <script>\n",
              "        const buttonEl =\n",
              "          document.querySelector('#df-25b7a00e-5100-401d-ae58-21ae2e29ddee button.colab-df-convert');\n",
              "        buttonEl.style.display =\n",
              "          google.colab.kernel.accessAllowed ? 'block' : 'none';\n",
              "\n",
              "        async function convertToInteractive(key) {\n",
              "          const element = document.querySelector('#df-25b7a00e-5100-401d-ae58-21ae2e29ddee');\n",
              "          const dataTable =\n",
              "            await google.colab.kernel.invokeFunction('convertToInteractive',\n",
              "                                                     [key], {});\n",
              "          if (!dataTable) return;\n",
              "\n",
              "          const docLinkHtml = 'Like what you see? Visit the ' +\n",
              "            '<a target=\"_blank\" href=https://colab.research.google.com/notebooks/data_table.ipynb>data table notebook</a>'\n",
              "            + ' to learn more about interactive tables.';\n",
              "          element.innerHTML = '';\n",
              "          dataTable['output_type'] = 'display_data';\n",
              "          await google.colab.output.renderOutput(dataTable, element);\n",
              "          const docLink = document.createElement('div');\n",
              "          docLink.innerHTML = docLinkHtml;\n",
              "          element.appendChild(docLink);\n",
              "        }\n",
              "      </script>\n",
              "    </div>\n",
              "  </div>\n",
              "  "
            ]
          },
          "metadata": {},
          "execution_count": 42
        }
      ],
      "source": [
        "df['FSM']=ls_hotspot0\n",
        "df.head()\n"
      ]
    },
    {
      "cell_type": "code",
      "source": [
        "! pip install geocube"
      ],
      "metadata": {
        "colab": {
          "base_uri": "https://localhost:8080/"
        },
        "id": "BeR5qlyXRsBy",
        "outputId": "5fc0c300-adde-41fc-b2ea-cbd841d8072b"
      },
      "execution_count": null,
      "outputs": [
        {
          "output_type": "stream",
          "name": "stdout",
          "text": [
            "Looking in indexes: https://pypi.org/simple, https://us-python.pkg.dev/colab-wheels/public/simple/\n",
            "Requirement already satisfied: geocube in /usr/local/lib/python3.7/dist-packages (0.1.0)\n",
            "Requirement already satisfied: xarray>=0.17 in /usr/local/lib/python3.7/dist-packages (from geocube) (0.20.2)\n",
            "Requirement already satisfied: datacube in /usr/local/lib/python3.7/dist-packages (from geocube) (1.8.5)\n",
            "Requirement already satisfied: Click>=6.0 in /usr/local/lib/python3.7/dist-packages (from geocube) (7.1.2)\n",
            "Requirement already satisfied: rioxarray>=0.4 in /usr/local/lib/python3.7/dist-packages (from geocube) (0.9.1)\n",
            "Requirement already satisfied: pyproj>=2 in /usr/local/lib/python3.7/dist-packages (from geocube) (3.2.1)\n",
            "Requirement already satisfied: packaging in /usr/local/lib/python3.7/dist-packages (from geocube) (21.3)\n",
            "Requirement already satisfied: scipy in /usr/local/lib/python3.7/dist-packages (from geocube) (1.7.3)\n",
            "Requirement already satisfied: appdirs in /usr/local/lib/python3.7/dist-packages (from geocube) (1.4.4)\n",
            "Requirement already satisfied: rasterio in /usr/local/lib/python3.7/dist-packages (from geocube) (1.2.10)\n",
            "Requirement already satisfied: geopandas>=0.7 in /usr/local/lib/python3.7/dist-packages (from geocube) (0.10.2)\n",
            "Requirement already satisfied: pandas>=0.25.0 in /usr/local/lib/python3.7/dist-packages (from geopandas>=0.7->geocube) (1.3.5)\n",
            "Requirement already satisfied: fiona>=1.8 in /usr/local/lib/python3.7/dist-packages (from geopandas>=0.7->geocube) (1.8.21)\n",
            "Requirement already satisfied: shapely>=1.6 in /usr/local/lib/python3.7/dist-packages (from geopandas>=0.7->geocube) (1.8.4)\n",
            "Requirement already satisfied: munch in /usr/local/lib/python3.7/dist-packages (from fiona>=1.8->geopandas>=0.7->geocube) (2.5.0)\n",
            "Requirement already satisfied: click-plugins>=1.0 in /usr/local/lib/python3.7/dist-packages (from fiona>=1.8->geopandas>=0.7->geocube) (1.1.1)\n",
            "Requirement already satisfied: certifi in /usr/local/lib/python3.7/dist-packages (from fiona>=1.8->geopandas>=0.7->geocube) (2022.6.15)\n",
            "Requirement already satisfied: setuptools in /usr/local/lib/python3.7/dist-packages (from fiona>=1.8->geopandas>=0.7->geocube) (57.4.0)\n",
            "Requirement already satisfied: six>=1.7 in /usr/local/lib/python3.7/dist-packages (from fiona>=1.8->geopandas>=0.7->geocube) (1.15.0)\n",
            "Requirement already satisfied: attrs>=17 in /usr/local/lib/python3.7/dist-packages (from fiona>=1.8->geopandas>=0.7->geocube) (22.1.0)\n",
            "Requirement already satisfied: cligj>=0.5 in /usr/local/lib/python3.7/dist-packages (from fiona>=1.8->geopandas>=0.7->geocube) (0.7.2)\n",
            "Requirement already satisfied: python-dateutil>=2.7.3 in /usr/local/lib/python3.7/dist-packages (from pandas>=0.25.0->geopandas>=0.7->geocube) (2.8.2)\n",
            "Requirement already satisfied: pytz>=2017.3 in /usr/local/lib/python3.7/dist-packages (from pandas>=0.25.0->geopandas>=0.7->geocube) (2022.2.1)\n",
            "Requirement already satisfied: numpy>=1.17.3 in /usr/local/lib/python3.7/dist-packages (from pandas>=0.25.0->geopandas>=0.7->geocube) (1.21.6)\n",
            "Requirement already satisfied: typing-extensions>=3.7 in /usr/local/lib/python3.7/dist-packages (from xarray>=0.17->geocube) (4.1.1)\n",
            "Requirement already satisfied: importlib-metadata in /usr/local/lib/python3.7/dist-packages (from xarray>=0.17->geocube) (4.12.0)\n",
            "Requirement already satisfied: jsonschema in /usr/local/lib/python3.7/dist-packages (from datacube->geocube) (4.3.3)\n",
            "Requirement already satisfied: netcdf4 in /usr/local/lib/python3.7/dist-packages (from datacube->geocube) (1.6.0)\n",
            "Requirement already satisfied: psycopg2 in /usr/local/lib/python3.7/dist-packages (from datacube->geocube) (2.9.3)\n",
            "Requirement already satisfied: cloudpickle>=0.4 in /usr/local/lib/python3.7/dist-packages (from datacube->geocube) (1.5.0)\n",
            "Requirement already satisfied: distributed in /usr/local/lib/python3.7/dist-packages (from datacube->geocube) (2022.2.0)\n",
            "Requirement already satisfied: toolz in /usr/local/lib/python3.7/dist-packages (from datacube->geocube) (0.12.0)\n",
            "Requirement already satisfied: cachetools in /usr/local/lib/python3.7/dist-packages (from datacube->geocube) (4.2.4)\n",
            "Requirement already satisfied: pyyaml in /usr/local/lib/python3.7/dist-packages (from datacube->geocube) (6.0)\n",
            "Requirement already satisfied: lark-parser>=0.6.7 in /usr/local/lib/python3.7/dist-packages (from datacube->geocube) (0.12.0)\n",
            "Requirement already satisfied: sqlalchemy in /usr/local/lib/python3.7/dist-packages (from datacube->geocube) (1.4.40)\n",
            "Requirement already satisfied: affine in /usr/local/lib/python3.7/dist-packages (from datacube->geocube) (2.3.1)\n",
            "Requirement already satisfied: dask[array] in /usr/local/lib/python3.7/dist-packages (from datacube->geocube) (2022.2.0)\n",
            "Requirement already satisfied: snuggs>=1.4.1 in /usr/local/lib/python3.7/dist-packages (from rasterio->geocube) (1.4.7)\n",
            "Requirement already satisfied: pyparsing>=2.1.6 in /usr/local/lib/python3.7/dist-packages (from snuggs>=1.4.1->rasterio->geocube) (3.0.9)\n",
            "Requirement already satisfied: partd>=0.3.10 in /usr/local/lib/python3.7/dist-packages (from dask[array]->datacube->geocube) (1.3.0)\n",
            "Requirement already satisfied: fsspec>=0.6.0 in /usr/local/lib/python3.7/dist-packages (from dask[array]->datacube->geocube) (2022.8.1)\n",
            "Requirement already satisfied: locket in /usr/local/lib/python3.7/dist-packages (from partd>=0.3.10->dask[array]->datacube->geocube) (1.0.0)\n",
            "Requirement already satisfied: psutil>=5.0 in /usr/local/lib/python3.7/dist-packages (from distributed->datacube->geocube) (5.4.8)\n",
            "Requirement already satisfied: jinja2 in /usr/local/lib/python3.7/dist-packages (from distributed->datacube->geocube) (2.11.3)\n",
            "Requirement already satisfied: msgpack>=0.6.0 in /usr/local/lib/python3.7/dist-packages (from distributed->datacube->geocube) (1.0.4)\n",
            "Requirement already satisfied: zict>=0.1.3 in /usr/local/lib/python3.7/dist-packages (from distributed->datacube->geocube) (2.2.0)\n",
            "Requirement already satisfied: tornado>=5 in /usr/local/lib/python3.7/dist-packages (from distributed->datacube->geocube) (5.1.1)\n",
            "Requirement already satisfied: sortedcontainers!=2.0.0,!=2.0.1 in /usr/local/lib/python3.7/dist-packages (from distributed->datacube->geocube) (2.4.0)\n",
            "Requirement already satisfied: tblib>=1.6.0 in /usr/local/lib/python3.7/dist-packages (from distributed->datacube->geocube) (1.7.0)\n",
            "Requirement already satisfied: heapdict in /usr/local/lib/python3.7/dist-packages (from zict>=0.1.3->distributed->datacube->geocube) (1.0.1)\n",
            "Requirement already satisfied: zipp>=0.5 in /usr/local/lib/python3.7/dist-packages (from importlib-metadata->xarray>=0.17->geocube) (3.8.1)\n",
            "Requirement already satisfied: MarkupSafe>=0.23 in /usr/local/lib/python3.7/dist-packages (from jinja2->distributed->datacube->geocube) (2.0.1)\n",
            "Requirement already satisfied: importlib-resources>=1.4.0 in /usr/local/lib/python3.7/dist-packages (from jsonschema->datacube->geocube) (5.9.0)\n",
            "Requirement already satisfied: pyrsistent!=0.17.0,!=0.17.1,!=0.17.2,>=0.14.0 in /usr/local/lib/python3.7/dist-packages (from jsonschema->datacube->geocube) (0.18.1)\n",
            "Requirement already satisfied: cftime in /usr/local/lib/python3.7/dist-packages (from netcdf4->datacube->geocube) (1.6.1)\n",
            "Requirement already satisfied: greenlet!=0.4.17 in /usr/local/lib/python3.7/dist-packages (from sqlalchemy->datacube->geocube) (1.1.3)\n"
          ]
        }
      ]
    },
    {
      "cell_type": "code",
      "execution_count": null,
      "metadata": {
        "id": "jJmfMXMPIJ-O"
      },
      "outputs": [],
      "source": [
        "import geocube\n",
        "from geocube.api.core import make_geocube\n",
        "\n",
        "geo_grid = make_geocube(\n",
        "    vector_data=df,\n",
        "    measurements=['FSM'],\n",
        "    resolution=(-2, 2)\n",
        ")"
      ]
    },
    {
      "cell_type": "code",
      "execution_count": null,
      "metadata": {
        "id": "mOpYrfYuIJ-P",
        "outputId": "833bcc1c-65d5-40a4-d7c7-fd788bab1657"
      },
      "outputs": [
        {
          "data": {
            "text/plain": [
              "<matplotlib.collections.QuadMesh at 0x2263ae86820>"
            ]
          },
          "execution_count": 68,
          "metadata": {},
          "output_type": "execute_result"
        },
        {
          "data": {
            "image/png": "[encoded data removed]",
            "text/plain": [
              "<Figure size 432x288 with 2 Axes>"
            ]
          },
          "metadata": {
            "needs_background": "light"
          },
          "output_type": "display_data"
        }
      ],
      "source": [
        "geo_grid.FSM.plot()"
      ]
    },
    {
      "cell_type": "code",
      "execution_count": null,
      "metadata": {
        "id": "-9RgfrriIJ-P"
      },
      "outputs": [],
      "source": [
        "geo_grid.FSM.rio.to_raster(\"FSM.tif\")\n"
      ]
    }
  ],
  "metadata": {
    "kernelspec": {
      "display_name": "Python 3 (ipykernel)",
      "language": "python",
      "name": "python3"
    },
    "language_info": {
      "codemirror_mode": {
        "name": "ipython",
        "version": 3
      },
      "file_extension": ".py",
      "mimetype": "text/x-python",
      "name": "python",
      "nbconvert_exporter": "python",
      "pygments_lexer": "ipython3",
      "version": "3.9.7"
    },
    "colab": {
      "provenance": [],
      "collapsed_sections": [],
      "include_colab_link": true
    }
  },
  "nbformat": 4,
  "nbformat_minor": 0
}