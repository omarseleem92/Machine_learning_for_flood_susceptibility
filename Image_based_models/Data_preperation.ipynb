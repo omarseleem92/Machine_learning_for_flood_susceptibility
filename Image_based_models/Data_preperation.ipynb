{
 "cells": [
  {
   "cell_type": "code",
   "execution_count": null,
   "metadata": {},
   "outputs": [],
   "source": [
    "import geopandas as gpd\n",
    "import glob\n",
    "import os\n",
    "from osgeo import ogr\n",
    "from osgeo import gdal\n",
    "import numpy as np\n",
    "import matplotlib.pyplot as plt"
   ]
  },
  {
   "cell_type": "code",
   "execution_count": null,
   "metadata": {},
   "outputs": [],
   "source": [
    "points=gpd.read_file('Points.shp')\n",
    "points.plot()"
   ]
  },
  {
   "cell_type": "code",
   "execution_count": null,
   "metadata": {},
   "outputs": [],
   "source": [
    "points"
   ]
  },
  {
   "cell_type": "code",
   "execution_count": null,
   "metadata": {},
   "outputs": [],
   "source": [
    "buffer_dist=115 #buffer distance = image size x spatial resolution /2\n",
    "\n",
    "# Read in the shapefile\n",
    "points = gpd.read_file(\"Points.shp\")\n",
    "\n",
    "# Create square buffers with a side length of buffer_dist units around the point features\n",
    "points['geometry'] = points.buffer(buffer_dist)\n",
    "\n",
    "points['geometry'] = points.geometry.envelope\n",
    "\n",
    "# Save the new shapefile\n",
    "points.to_file(\"squares.shp\")"
   ]
  },
  {
   "cell_type": "code",
   "execution_count": null,
   "metadata": {},
   "outputs": [],
   "source": [
    "# Split the flooded and nonflooded points \n",
    "#points_flooded=points[points['Label']==1]\n",
    "#points_notflooded=points[points['Label']==0]\n",
    "\n",
    "# Iterate over each feature in the shapefile\n",
    "for index, feature in points.iterrows():\n",
    "    # Create a new GeoDataFrame with just the current feature\n",
    "    #print(index)\n",
    "    \n",
    "    feature_gdf = points.iloc[[index]]\n",
    "    #print(feature_gdf)\n",
    "    #print(feature_gdf['Label'][index])\n",
    "    \n",
    "    \n",
    "        \n",
    "    # Save the feature to a new shapefile\n",
    "    feature_gdf.to_file(r\"divided\\feature_{}.shp\".format(index))"
   ]
  },
  {
   "cell_type": "code",
   "execution_count": null,
   "metadata": {},
   "outputs": [],
   "source": [
    "# Read raster files with GDAL\n",
    "# import \n",
    "ds = gdal.Open(\"Composite_raster.tif\") # open a raster with several bands, each band  represent one predictive feature\n",
    "gt= ds.GetGeoTransform() #get the transformation data\n",
    "proj = ds.GetProjection() #get the projection\n",
    "\n",
    "band = ds.GetRasterBand(1) #read the first band \n",
    "array = band.ReadAsArray() #read the first band as an array\n",
    "\n",
    "plt.figure()  #plot the raster to check that you every thing is working well\n",
    "plt.imshow(array)"
   ]
  },
  {
   "cell_type": "code",
   "execution_count": null,
   "metadata": {},
   "outputs": [],
   "source": [
    "# change the path to the folder where we saved the splitted polygons\n",
    "shp_path=r\"D:\\divided\"\n",
    "os.chdir(shp_path)\n",
    "shp_file = glob.glob('*.shp')\n",
    "#index =0\n",
    "for file in shp_file:\n",
    "        #print(str(file))         \n",
    "        ds2 = ogr.Open(file, 1)\n",
    "        layer = ds2.GetLayer()\n",
    "        shp_ds=gpd.read_file(file)\n",
    "        #print(shp_ds['Label'][0])\n",
    "        #index+=1\n",
    "        # we will clip the raster with each polygon and save the flooded and notflooded locations in different folders\n",
    "        # we will check the label, if label =0 then this is not flooded location\n",
    "        if shp_ds['Label'][0] == 0 : # clip and save not flooded locations\n",
    "             #Save the feature to a new shapefile\n",
    "            dsClip = gdal.Warp(r\"D:\\Predictive_features\\NotFlooded\\feature_\"+str(file[:-4])+\".tif\", ds, cutlineDSName = file,\n",
    "                       cropToCutline = True, dstNodata = np.nan)\n",
    "        else: # clip and save flooded locations\n",
    "            # Save the feature to a new shapefile\n",
    "                  \n",
    "            dsClip = gdal.Warp(r\"D:\\Predictive_features\\Flooded\\feature_\"+str(file[:-4])+\".tif\", ds, cutlineDSName = file,\n",
    "                       cropToCutline = True, dstNodata = np.nan)"
   ]
  },
  {
   "cell_type": "code",
   "execution_count": null,
   "metadata": {},
   "outputs": [],
   "source": []
  }
 ],
 "metadata": {
  "kernelspec": {
   "display_name": "Python 3",
   "language": "python",
   "name": "python3"
  },
  "language_info": {
   "codemirror_mode": {
    "name": "ipython",
    "version": 3
   },
   "file_extension": ".py",
   "mimetype": "text/x-python",
   "name": "python",
   "nbconvert_exporter": "python",
   "pygments_lexer": "ipython3",
   "version": "3.7.9"
  }
 },
 "nbformat": 4,
 "nbformat_minor": 4
}
