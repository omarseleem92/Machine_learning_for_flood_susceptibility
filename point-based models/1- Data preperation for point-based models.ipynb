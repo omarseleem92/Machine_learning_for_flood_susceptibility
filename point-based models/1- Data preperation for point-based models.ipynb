{
 "cells": [
  {
   "cell_type": "code",
   "execution_count": null,
   "id": "32520e6c",
   "metadata": {},
   "outputs": [],
   "source": [
    "# Import used packages\n",
    "import geopandas as gpd  # used to read the shapfile\n",
    "import rasterio as rio   # used to read the raster (.tif) files\n",
    "from rasterio.plot import show # used to make plots using rasterio\n",
    "import matplotlib.pyplot as plt #to make plots using matplotlib"
   ]
  },
  {
   "cell_type": "code",
   "execution_count": null,
   "id": "6b1b31fa",
   "metadata": {},
   "outputs": [],
   "source": [
    "# Read your point shapefiles (Flooded and Non Flooded locations)\n",
    "points=gpd.read_file('Points.shp')"
   ]
  },
  {
   "cell_type": "code",
   "execution_count": null,
   "id": "cbceb91c",
   "metadata": {},
   "outputs": [],
   "source": [
    "# make columns to extract the values of each predictive feature\n",
    "# for each point. \n",
    "points['DEM']=0 #\n",
    "points['Slope']=0\n",
    "points['Aspect']=0\n",
    "points['Curvature']=0\n",
    "points['TWI']=0\n",
    "points['DTDrainage']=0\n",
    "points['DTRoad']=0\n",
    "points['DTRiver']=0\n",
    "points['CN']=0\n",
    "points['AP']=0  #Max daily precipitation\n",
    "points['FP']=0  #Frequency of extreme precipitation event."
   ]
  },
  {
   "cell_type": "code",
   "execution_count": null,
   "id": "d2bd4f68",
   "metadata": {},
   "outputs": [],
   "source": [
    "#The predictive features are in raster format so we use rasterio package to \n",
    "#read them and convert them to numpy array\n",
    "\n",
    "DEM_raster=rio.open('DEM.tif')\n",
    "DEM_arr=DEM_raster.read(1)\n",
    "\n",
    "Slope_raster=rio.open('Slope.tif')\n",
    "Slope_arr=Slope_raster.read(1)\n",
    "\n",
    "Aspect_raster=rio.open('Aspect.tif')\n",
    "Aspect_arr=Aspect_raster.read(1)\n",
    "\n",
    "Curvature_raster=rio.open('Curvature.tif')\n",
    "Curvature_arr=Curvature_raster.read(1)\n",
    "\n",
    "TWI_raster=rio.open('TWI.tif')\n",
    "TWI_arr=TWI_raster.read(1)\n",
    "\n",
    "DTRoad_raster=rio.open('DTRoad.tif')\n",
    "DTRoad_arr=DTRoad_raster.read(1)\n",
    "\n",
    "DTRiver_raster=rio.open('DTRiver.tif')\n",
    "DTRiver_arr=DTRiver_raster.read(1)\n",
    "\n",
    "DTDrainage_raster=rio.open('DTDrainage.tif')\n",
    "DTDrainage_arr=DTDrainage_raster.read(1)\n",
    "\n",
    "CN_raster=rio.open('CN.tif')\n",
    "CN_arr=CN.read(1)\n",
    "\n",
    "AP_raster=rio.open('AP.tif')\n",
    "AP_arr=AP.read(1)\n",
    "\n",
    "FP_raster=rio.open('FP.tif')\n",
    "FP_arr=FP.read(1)"
   ]
  },
  {
   "cell_type": "code",
   "execution_count": null,
   "id": "ab880b86",
   "metadata": {},
   "outputs": [],
   "source": [
    "#show point and raster on a matplotlib plot\n",
    "fig, ax = plt.subplots(figsize=(12,12))\n",
    "points.plot(ax=ax, color='orangered')\n",
    "show(DEM_raster, ax=ax)"
   ]
  },
  {
   "cell_type": "code",
   "execution_count": null,
   "id": "7e4ca753",
   "metadata": {},
   "outputs": [],
   "source": [
    "# Extracting the raster values to the points shapefile\n",
    "# count=0\n",
    "for index,row in points.iterrows(): #iterate over the points in the shapefile\n",
    "    longitude=row['geometry'].x #get the longitude of the point\n",
    "    latitude=row['geometry'].y  #get the latitude of the point\n",
    "\n",
    "    #print(\"Longitude=\"+str(longitude))\n",
    "    #print(count)\n",
    "    #count +=1\n",
    "\n",
    "    rowIndex, colIndex=DEM_raster.index(longitude,latitude) # the corresponding pixel to the point (longitude,latitude)\n",
    "\n",
    "    # Extract the raster values at the point location\n",
    "    points['DEM'].loc[index]=DEM_arr[rowIndex, colIndex]\n",
    "    points['Slope'].loc[index]=Slope_arr[rowIndex, colIndex]\n",
    "    points['Aspect'].loc[index]=Aspect_arr[rowIndex, colIndex]\n",
    "    points['Curvature'].loc[index]=Curvature_arr[rowIndex, colIndex]\n",
    "    points['DTRoad'].loc[index]=DTRoad_arr[rowIndex, colIndex]\n",
    "    points['DTRiver'].loc[index]=DTRiver_arr[rowIndex, colIndex]\n",
    "    points['DTDrainage'].loc[index]=DTDrainage_arr[rowIndex, colIndex]\n",
    "    points['TWI'].loc[index]=TWI_arr[rowIndex, colIndex]\n",
    "    points['CN'].loc[index]=CN_arr[rowIndex, colIndex]\n",
    "    points['AP'].loc[index]=AP_arr[rowIndex, colIndex]\n",
    "    points['FP'].loc[index]=FP_arr[rowIndex, colIndex]"
   ]
  },
  {
   "cell_type": "code",
   "execution_count": null,
   "id": "63717e23",
   "metadata": {},
   "outputs": [],
   "source": [
    "points.head() # to have a look on the calculated fields."
   ]
  },
  {
   "cell_type": "code",
   "execution_count": null,
   "id": "1300d27b",
   "metadata": {},
   "outputs": [],
   "source": [
    "# Save the points file\n",
    "points.to_file('points_data.shp') # save as a shapfile "
   ]
  },
  {
   "cell_type": "code",
   "execution_count": null,
   "id": "b4ca2178",
   "metadata": {},
   "outputs": [],
   "source": [
    "# or\n",
    "points.to_pickle('points_data.pkl') # save as a pickle."
   ]
  }
 ],
 "metadata": {
  "kernelspec": {
   "display_name": "Python 3 (ipykernel)",
   "language": "python",
   "name": "python3"
  },
  "language_info": {
   "codemirror_mode": {
    "name": "ipython",
    "version": 3
   },
   "file_extension": ".py",
   "mimetype": "text/x-python",
   "name": "python",
   "nbconvert_exporter": "python",
   "pygments_lexer": "ipython3",
   "version": "3.10.5"
  }
 },
 "nbformat": 4,
 "nbformat_minor": 5
}
